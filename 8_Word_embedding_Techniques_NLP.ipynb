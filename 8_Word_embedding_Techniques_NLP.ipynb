{
  "cells": [
    {
      "cell_type": "markdown",
      "metadata": {
        "id": "eHNf7J680XF-"
      },
      "source": [
        "### Word Embedding Techniques using Embedding Layer in Keras"
      ]
    },
    {
      "cell_type": "code",
      "execution_count": null,
      "metadata": {
        "colab": {
          "base_uri": "https://localhost:8080/"
        },
        "id": "pslw1Ya90XGC",
        "outputId": "9fe0f78c-e464-4d8b-addc-ff350f8b70c0",
        "collapsed": true
      },
      "outputs": [
        {
          "output_type": "stream",
          "name": "stdout",
          "text": [
            "Requirement already satisfied: tensorflow in /usr/local/lib/python3.10/dist-packages (2.15.0)\n",
            "Requirement already satisfied: absl-py>=1.0.0 in /usr/local/lib/python3.10/dist-packages (from tensorflow) (1.4.0)\n",
            "Requirement already satisfied: astunparse>=1.6.0 in /usr/local/lib/python3.10/dist-packages (from tensorflow) (1.6.3)\n",
            "Requirement already satisfied: flatbuffers>=23.5.26 in /usr/local/lib/python3.10/dist-packages (from tensorflow) (24.3.25)\n",
            "Requirement already satisfied: gast!=0.5.0,!=0.5.1,!=0.5.2,>=0.2.1 in /usr/local/lib/python3.10/dist-packages (from tensorflow) (0.5.4)\n",
            "Requirement already satisfied: google-pasta>=0.1.1 in /usr/local/lib/python3.10/dist-packages (from tensorflow) (0.2.0)\n",
            "Requirement already satisfied: h5py>=2.9.0 in /usr/local/lib/python3.10/dist-packages (from tensorflow) (3.9.0)\n",
            "Requirement already satisfied: libclang>=13.0.0 in /usr/local/lib/python3.10/dist-packages (from tensorflow) (18.1.1)\n",
            "Requirement already satisfied: ml-dtypes~=0.2.0 in /usr/local/lib/python3.10/dist-packages (from tensorflow) (0.2.0)\n",
            "Requirement already satisfied: numpy<2.0.0,>=1.23.5 in /usr/local/lib/python3.10/dist-packages (from tensorflow) (1.25.2)\n",
            "Requirement already satisfied: opt-einsum>=2.3.2 in /usr/local/lib/python3.10/dist-packages (from tensorflow) (3.3.0)\n",
            "Requirement already satisfied: packaging in /usr/local/lib/python3.10/dist-packages (from tensorflow) (24.1)\n",
            "Requirement already satisfied: protobuf!=4.21.0,!=4.21.1,!=4.21.2,!=4.21.3,!=4.21.4,!=4.21.5,<5.0.0dev,>=3.20.3 in /usr/local/lib/python3.10/dist-packages (from tensorflow) (3.20.3)\n",
            "Requirement already satisfied: setuptools in /usr/local/lib/python3.10/dist-packages (from tensorflow) (67.7.2)\n",
            "Requirement already satisfied: six>=1.12.0 in /usr/local/lib/python3.10/dist-packages (from tensorflow) (1.16.0)\n",
            "Requirement already satisfied: termcolor>=1.1.0 in /usr/local/lib/python3.10/dist-packages (from tensorflow) (2.4.0)\n",
            "Requirement already satisfied: typing-extensions>=3.6.6 in /usr/local/lib/python3.10/dist-packages (from tensorflow) (4.12.2)\n",
            "Requirement already satisfied: wrapt<1.15,>=1.11.0 in /usr/local/lib/python3.10/dist-packages (from tensorflow) (1.14.1)\n",
            "Requirement already satisfied: tensorflow-io-gcs-filesystem>=0.23.1 in /usr/local/lib/python3.10/dist-packages (from tensorflow) (0.37.0)\n",
            "Requirement already satisfied: grpcio<2.0,>=1.24.3 in /usr/local/lib/python3.10/dist-packages (from tensorflow) (1.64.1)\n",
            "Requirement already satisfied: tensorboard<2.16,>=2.15 in /usr/local/lib/python3.10/dist-packages (from tensorflow) (2.15.2)\n",
            "Requirement already satisfied: tensorflow-estimator<2.16,>=2.15.0 in /usr/local/lib/python3.10/dist-packages (from tensorflow) (2.15.0)\n",
            "Requirement already satisfied: keras<2.16,>=2.15.0 in /usr/local/lib/python3.10/dist-packages (from tensorflow) (2.15.0)\n",
            "Requirement already satisfied: wheel<1.0,>=0.23.0 in /usr/local/lib/python3.10/dist-packages (from astunparse>=1.6.0->tensorflow) (0.43.0)\n",
            "Requirement already satisfied: google-auth<3,>=1.6.3 in /usr/local/lib/python3.10/dist-packages (from tensorboard<2.16,>=2.15->tensorflow) (2.27.0)\n",
            "Requirement already satisfied: google-auth-oauthlib<2,>=0.5 in /usr/local/lib/python3.10/dist-packages (from tensorboard<2.16,>=2.15->tensorflow) (1.2.0)\n",
            "Requirement already satisfied: markdown>=2.6.8 in /usr/local/lib/python3.10/dist-packages (from tensorboard<2.16,>=2.15->tensorflow) (3.6)\n",
            "Requirement already satisfied: requests<3,>=2.21.0 in /usr/local/lib/python3.10/dist-packages (from tensorboard<2.16,>=2.15->tensorflow) (2.31.0)\n",
            "Requirement already satisfied: tensorboard-data-server<0.8.0,>=0.7.0 in /usr/local/lib/python3.10/dist-packages (from tensorboard<2.16,>=2.15->tensorflow) (0.7.2)\n",
            "Requirement already satisfied: werkzeug>=1.0.1 in /usr/local/lib/python3.10/dist-packages (from tensorboard<2.16,>=2.15->tensorflow) (3.0.3)\n",
            "Requirement already satisfied: cachetools<6.0,>=2.0.0 in /usr/local/lib/python3.10/dist-packages (from google-auth<3,>=1.6.3->tensorboard<2.16,>=2.15->tensorflow) (5.3.3)\n",
            "Requirement already satisfied: pyasn1-modules>=0.2.1 in /usr/local/lib/python3.10/dist-packages (from google-auth<3,>=1.6.3->tensorboard<2.16,>=2.15->tensorflow) (0.4.0)\n",
            "Requirement already satisfied: rsa<5,>=3.1.4 in /usr/local/lib/python3.10/dist-packages (from google-auth<3,>=1.6.3->tensorboard<2.16,>=2.15->tensorflow) (4.9)\n",
            "Requirement already satisfied: requests-oauthlib>=0.7.0 in /usr/local/lib/python3.10/dist-packages (from google-auth-oauthlib<2,>=0.5->tensorboard<2.16,>=2.15->tensorflow) (1.3.1)\n",
            "Requirement already satisfied: charset-normalizer<4,>=2 in /usr/local/lib/python3.10/dist-packages (from requests<3,>=2.21.0->tensorboard<2.16,>=2.15->tensorflow) (3.3.2)\n",
            "Requirement already satisfied: idna<4,>=2.5 in /usr/local/lib/python3.10/dist-packages (from requests<3,>=2.21.0->tensorboard<2.16,>=2.15->tensorflow) (3.7)\n",
            "Requirement already satisfied: urllib3<3,>=1.21.1 in /usr/local/lib/python3.10/dist-packages (from requests<3,>=2.21.0->tensorboard<2.16,>=2.15->tensorflow) (2.0.7)\n",
            "Requirement already satisfied: certifi>=2017.4.17 in /usr/local/lib/python3.10/dist-packages (from requests<3,>=2.21.0->tensorboard<2.16,>=2.15->tensorflow) (2024.6.2)\n",
            "Requirement already satisfied: MarkupSafe>=2.1.1 in /usr/local/lib/python3.10/dist-packages (from werkzeug>=1.0.1->tensorboard<2.16,>=2.15->tensorflow) (2.1.5)\n",
            "Requirement already satisfied: pyasn1<0.7.0,>=0.4.6 in /usr/local/lib/python3.10/dist-packages (from pyasn1-modules>=0.2.1->google-auth<3,>=1.6.3->tensorboard<2.16,>=2.15->tensorflow) (0.6.0)\n",
            "Requirement already satisfied: oauthlib>=3.0.0 in /usr/local/lib/python3.10/dist-packages (from requests-oauthlib>=0.7.0->google-auth-oauthlib<2,>=0.5->tensorboard<2.16,>=2.15->tensorflow) (3.2.2)\n"
          ]
        }
      ],
      "source": [
        "!pip install tensorflow"
      ]
    },
    {
      "cell_type": "code",
      "execution_count": null,
      "metadata": {
        "id": "k4nKifUl0XGC"
      },
      "outputs": [],
      "source": [
        "##tensorflow >2.0\n",
        "from tensorflow.keras.preprocessing.text import one_hot"
      ]
    },
    {
      "cell_type": "code",
      "execution_count": null,
      "metadata": {
        "id": "Fu9PuYeu0XGD"
      },
      "outputs": [],
      "source": [
        "### sentences\n",
        "sent=[  'the man is good',\n",
        "     'the man is me',\n",
        "     'the cup of coffee',\n",
        "    'I am a good boy',\n",
        "     'I am a good developer',\n",
        "     'understand the meaning of words',\n",
        "     'your videos are good']"
      ]
    },
    {
      "cell_type": "code",
      "execution_count": null,
      "metadata": {
        "colab": {
          "base_uri": "https://localhost:8080/"
        },
        "id": "x5d1D3_20XGD",
        "outputId": "d1c4a43e-9ea2-471c-e0ea-44e7c1d6ea4f"
      },
      "outputs": [
        {
          "output_type": "execute_result",
          "data": {
            "text/plain": [
              "['the man is good',\n",
              " 'the man is me',\n",
              " 'the cup of coffee',\n",
              " 'I am a good boy',\n",
              " 'I am a good developer',\n",
              " 'understand the meaning of words',\n",
              " 'your videos are good']"
            ]
          },
          "metadata": {},
          "execution_count": 23
        }
      ],
      "source": [
        "sent"
      ]
    },
    {
      "cell_type": "code",
      "execution_count": null,
      "metadata": {
        "id": "tjnXIn3B0XGE"
      },
      "outputs": [],
      "source": [
        "voc_size=500"
      ]
    },
    {
      "cell_type": "markdown",
      "metadata": {
        "id": "-vQOdeKk0XGE"
      },
      "source": [
        "#### One Hot Representation"
      ]
    },
    {
      "cell_type": "code",
      "execution_count": null,
      "metadata": {
        "colab": {
          "base_uri": "https://localhost:8080/"
        },
        "id": "gojfZpAW0XGE",
        "outputId": "8946569d-7719-48d0-b382-a4949c8f9493"
      },
      "outputs": [
        {
          "output_type": "stream",
          "name": "stdout",
          "text": [
            "[[384, 165, 20, 488], [384, 165, 20, 265], [384, 4, 179, 149], [255, 391, 144, 488, 446], [255, 391, 144, 488, 128], [210, 384, 247, 179, 307], [438, 371, 223, 488]]\n"
          ]
        }
      ],
      "source": [
        "onehot_repr=[one_hot(words,voc_size)for words in sent]\n",
        "print(onehot_repr)"
      ]
    },
    {
      "cell_type": "markdown",
      "metadata": {
        "id": "eYG267x40XGF"
      },
      "source": [
        "### Word Embedding Represntation"
      ]
    },
    {
      "cell_type": "code",
      "execution_count": null,
      "metadata": {
        "id": "wpqPm0tb0XGF"
      },
      "outputs": [],
      "source": [
        "from tensorflow.keras.layers import Embedding\n",
        "from tensorflow.keras.preprocessing.sequence import pad_sequences\n",
        "from tensorflow.keras.models import Sequential"
      ]
    },
    {
      "cell_type": "code",
      "execution_count": null,
      "metadata": {
        "id": "Rov3GTM00XGG"
      },
      "outputs": [],
      "source": [
        "import numpy as np"
      ]
    },
    {
      "cell_type": "code",
      "execution_count": null,
      "metadata": {
        "colab": {
          "base_uri": "https://localhost:8080/"
        },
        "id": "8fQLPw6p0XGG",
        "outputId": "452b9a98-c2c5-43ce-8d0b-012dd85c6980"
      },
      "outputs": [
        {
          "output_type": "stream",
          "name": "stdout",
          "text": [
            "[[  0   0   0   0 384 165  20 488]\n",
            " [  0   0   0   0 384 165  20 265]\n",
            " [  0   0   0   0 384   4 179 149]\n",
            " [  0   0   0 255 391 144 488 446]\n",
            " [  0   0   0 255 391 144 488 128]\n",
            " [  0   0   0 210 384 247 179 307]\n",
            " [  0   0   0   0 438 371 223 488]]\n"
          ]
        }
      ],
      "source": [
        "sent_length=8\n",
        "embedded_docs=pad_sequences(onehot_repr,padding='pre',maxlen=sent_length)\n",
        "print(embedded_docs)"
      ]
    },
    {
      "cell_type": "code",
      "execution_count": null,
      "metadata": {
        "id": "yjQqBYac0XGG"
      },
      "outputs": [],
      "source": [
        "dim=10"
      ]
    },
    {
      "cell_type": "code",
      "execution_count": null,
      "metadata": {
        "id": "ozC-TXrt0XGG"
      },
      "outputs": [],
      "source": [
        "model=Sequential()\n",
        "model.add(Embedding(voc_size,10,input_length=sent_length))\n",
        "model.compile('adam','mse')"
      ]
    },
    {
      "cell_type": "code",
      "execution_count": null,
      "metadata": {
        "colab": {
          "base_uri": "https://localhost:8080/"
        },
        "id": "tMNvq-Ji0XGH",
        "outputId": "b6566ea8-385c-42ba-8d99-b5a5029a6230"
      },
      "outputs": [
        {
          "output_type": "stream",
          "name": "stdout",
          "text": [
            "Model: \"sequential_2\"\n",
            "_________________________________________________________________\n",
            " Layer (type)                Output Shape              Param #   \n",
            "=================================================================\n",
            " embedding_2 (Embedding)     (None, 8, 10)             5000      \n",
            "                                                                 \n",
            "=================================================================\n",
            "Total params: 5000 (19.53 KB)\n",
            "Trainable params: 5000 (19.53 KB)\n",
            "Non-trainable params: 0 (0.00 Byte)\n",
            "_________________________________________________________________\n"
          ]
        }
      ],
      "source": [
        "model.summary()"
      ]
    },
    {
      "cell_type": "code",
      "source": [
        "embedded_docs[0]"
      ],
      "metadata": {
        "colab": {
          "base_uri": "https://localhost:8080/"
        },
        "id": "FC4Ess_FEcb3",
        "outputId": "d9aa7012-b4d7-4827-c417-0a75daa09305"
      },
      "execution_count": null,
      "outputs": [
        {
          "output_type": "execute_result",
          "data": {
            "text/plain": [
              "array([  0,   0,   0,   0, 384, 165,  20, 488], dtype=int32)"
            ]
          },
          "metadata": {},
          "execution_count": 34
        }
      ]
    },
    {
      "cell_type": "code",
      "source": [
        "model.predict(embedded_docs[0])"
      ],
      "metadata": {
        "colab": {
          "base_uri": "https://localhost:8080/"
        },
        "id": "bRqEvMBYEZUS",
        "outputId": "995cfe78-dc02-4ac5-ae2c-2724561b30f8"
      },
      "execution_count": null,
      "outputs": [
        {
          "output_type": "stream",
          "name": "stdout",
          "text": [
            "1/1 [==============================] - 0s 24ms/step\n"
          ]
        },
        {
          "output_type": "execute_result",
          "data": {
            "text/plain": [
              "array([[-0.01819853,  0.04305022, -0.02470374, -0.0050799 ,  0.02383829,\n",
              "         0.0276528 ,  0.02301859, -0.02873375, -0.03619019,  0.00932493],\n",
              "       [-0.01819853,  0.04305022, -0.02470374, -0.0050799 ,  0.02383829,\n",
              "         0.0276528 ,  0.02301859, -0.02873375, -0.03619019,  0.00932493],\n",
              "       [-0.01819853,  0.04305022, -0.02470374, -0.0050799 ,  0.02383829,\n",
              "         0.0276528 ,  0.02301859, -0.02873375, -0.03619019,  0.00932493],\n",
              "       [-0.01819853,  0.04305022, -0.02470374, -0.0050799 ,  0.02383829,\n",
              "         0.0276528 ,  0.02301859, -0.02873375, -0.03619019,  0.00932493],\n",
              "       [ 0.04234949,  0.01548989,  0.02536606,  0.02670735, -0.04614328,\n",
              "        -0.03796264,  0.03211776, -0.00549563,  0.04188776,  0.03197447],\n",
              "       [-0.04718261, -0.0384183 ,  0.01484493,  0.04043496, -0.04530597,\n",
              "        -0.02115529,  0.02008022, -0.03297517, -0.03241177,  0.02080435],\n",
              "       [-0.04811491,  0.03362617,  0.02855206, -0.01627331,  0.03210163,\n",
              "        -0.03275489, -0.00766965,  0.0404719 ,  0.03191144, -0.02252165],\n",
              "       [ 0.01516172, -0.03040537,  0.04285984, -0.04446241, -0.02277569,\n",
              "         0.04071197,  0.0481943 ,  0.00504733,  0.00950823, -0.03701874]],\n",
              "      dtype=float32)"
            ]
          },
          "metadata": {},
          "execution_count": 36
        }
      ]
    },
    {
      "cell_type": "code",
      "execution_count": null,
      "metadata": {
        "colab": {
          "base_uri": "https://localhost:8080/"
        },
        "id": "kzKP69gx0XGH",
        "outputId": "4558c7ab-6692-4aa3-b958-e7bbfeb0474d"
      },
      "outputs": [
        {
          "output_type": "stream",
          "name": "stdout",
          "text": [
            "1/1 [==============================] - 0s 31ms/step\n",
            "[[[ 0.03938437 -0.02009605 -0.03878935 -0.04955565  0.00419912\n",
            "   -0.01431773  0.02523251  0.01653036  0.04291571 -0.00864979]\n",
            "  [ 0.03938437 -0.02009605 -0.03878935 -0.04955565  0.00419912\n",
            "   -0.01431773  0.02523251  0.01653036  0.04291571 -0.00864979]\n",
            "  [ 0.03938437 -0.02009605 -0.03878935 -0.04955565  0.00419912\n",
            "   -0.01431773  0.02523251  0.01653036  0.04291571 -0.00864979]\n",
            "  [ 0.03938437 -0.02009605 -0.03878935 -0.04955565  0.00419912\n",
            "   -0.01431773  0.02523251  0.01653036  0.04291571 -0.00864979]\n",
            "  [ 0.03059326 -0.04286614  0.00899569  0.00743791 -0.000781\n",
            "    0.04186494  0.03977301  0.00326709  0.00619651 -0.01993654]\n",
            "  [ 0.02512412 -0.0087087   0.03144198  0.00704668 -0.00177735\n",
            "   -0.03415867 -0.00100178  0.01562483  0.03178963  0.02784893]\n",
            "  [-0.00653008  0.02340979 -0.01967902 -0.00494973 -0.02693756\n",
            "   -0.03746525  0.01460877 -0.00449115 -0.00130982 -0.0039017 ]\n",
            "  [-0.03150218  0.01950303 -0.01415605 -0.00183152  0.01207731\n",
            "    0.02444079  0.0140041   0.0070256   0.04950741 -0.03602346]]\n",
            "\n",
            " [[ 0.03938437 -0.02009605 -0.03878935 -0.04955565  0.00419912\n",
            "   -0.01431773  0.02523251  0.01653036  0.04291571 -0.00864979]\n",
            "  [ 0.03938437 -0.02009605 -0.03878935 -0.04955565  0.00419912\n",
            "   -0.01431773  0.02523251  0.01653036  0.04291571 -0.00864979]\n",
            "  [ 0.03938437 -0.02009605 -0.03878935 -0.04955565  0.00419912\n",
            "   -0.01431773  0.02523251  0.01653036  0.04291571 -0.00864979]\n",
            "  [ 0.03938437 -0.02009605 -0.03878935 -0.04955565  0.00419912\n",
            "   -0.01431773  0.02523251  0.01653036  0.04291571 -0.00864979]\n",
            "  [ 0.03059326 -0.04286614  0.00899569  0.00743791 -0.000781\n",
            "    0.04186494  0.03977301  0.00326709  0.00619651 -0.01993654]\n",
            "  [ 0.02512412 -0.0087087   0.03144198  0.00704668 -0.00177735\n",
            "   -0.03415867 -0.00100178  0.01562483  0.03178963  0.02784893]\n",
            "  [-0.00653008  0.02340979 -0.01967902 -0.00494973 -0.02693756\n",
            "   -0.03746525  0.01460877 -0.00449115 -0.00130982 -0.0039017 ]\n",
            "  [-0.0434371   0.01733501 -0.0254814   0.03025435 -0.0460149\n",
            "    0.00874413  0.04856688  0.03454936 -0.02982813 -0.00472248]]\n",
            "\n",
            " [[ 0.03938437 -0.02009605 -0.03878935 -0.04955565  0.00419912\n",
            "   -0.01431773  0.02523251  0.01653036  0.04291571 -0.00864979]\n",
            "  [ 0.03938437 -0.02009605 -0.03878935 -0.04955565  0.00419912\n",
            "   -0.01431773  0.02523251  0.01653036  0.04291571 -0.00864979]\n",
            "  [ 0.03938437 -0.02009605 -0.03878935 -0.04955565  0.00419912\n",
            "   -0.01431773  0.02523251  0.01653036  0.04291571 -0.00864979]\n",
            "  [ 0.03938437 -0.02009605 -0.03878935 -0.04955565  0.00419912\n",
            "   -0.01431773  0.02523251  0.01653036  0.04291571 -0.00864979]\n",
            "  [ 0.03059326 -0.04286614  0.00899569  0.00743791 -0.000781\n",
            "    0.04186494  0.03977301  0.00326709  0.00619651 -0.01993654]\n",
            "  [-0.0165449  -0.0245487  -0.04049651 -0.03379797  0.03827978\n",
            "   -0.01891239  0.03935272  0.03601534  0.04047254  0.02626738]\n",
            "  [-0.00653008  0.02340979 -0.01967902 -0.00494973 -0.02693756\n",
            "   -0.03746525  0.01460877 -0.00449115 -0.00130982 -0.0039017 ]\n",
            "  [-0.01796211  0.03012553  0.02499587 -0.03019696 -0.02619814\n",
            "   -0.04370998  0.02499839  0.0259905  -0.02895923 -0.03277919]]\n",
            "\n",
            " [[ 0.03938437 -0.02009605 -0.03878935 -0.04955565  0.00419912\n",
            "   -0.01431773  0.02523251  0.01653036  0.04291571 -0.00864979]\n",
            "  [ 0.03938437 -0.02009605 -0.03878935 -0.04955565  0.00419912\n",
            "   -0.01431773  0.02523251  0.01653036  0.04291571 -0.00864979]\n",
            "  [ 0.03938437 -0.02009605 -0.03878935 -0.04955565  0.00419912\n",
            "   -0.01431773  0.02523251  0.01653036  0.04291571 -0.00864979]\n",
            "  [ 0.0455125  -0.01906607 -0.01224751 -0.00509113 -0.02193579\n",
            "   -0.01053187 -0.02626517 -0.00871019  0.04797108  0.01489766]\n",
            "  [ 0.01335182 -0.03833141  0.01346098  0.02035983 -0.03607824\n",
            "   -0.03206537  0.02643689  0.03777478 -0.00899317  0.01333355]\n",
            "  [-0.00676087  0.03904044  0.00479779 -0.02978393  0.02397071\n",
            "    0.03766178 -0.0092328  -0.03824631 -0.03726087  0.04569164]\n",
            "  [-0.04575538  0.04188532  0.01740856 -0.00267079 -0.00815887\n",
            "   -0.04747143 -0.02846756 -0.00109354 -0.00825974  0.03024724]\n",
            "  [ 0.01152636  0.04342527  0.0201059   0.0143644  -0.0240415\n",
            "    0.01083563 -0.03891394  0.03182233 -0.04408182 -0.00053762]]\n",
            "\n",
            " [[ 0.03938437 -0.02009605 -0.03878935 -0.04955565  0.00419912\n",
            "   -0.01431773  0.02523251  0.01653036  0.04291571 -0.00864979]\n",
            "  [ 0.03938437 -0.02009605 -0.03878935 -0.04955565  0.00419912\n",
            "   -0.01431773  0.02523251  0.01653036  0.04291571 -0.00864979]\n",
            "  [ 0.03938437 -0.02009605 -0.03878935 -0.04955565  0.00419912\n",
            "   -0.01431773  0.02523251  0.01653036  0.04291571 -0.00864979]\n",
            "  [ 0.0455125  -0.01906607 -0.01224751 -0.00509113 -0.02193579\n",
            "   -0.01053187 -0.02626517 -0.00871019  0.04797108  0.01489766]\n",
            "  [ 0.01335182 -0.03833141  0.01346098  0.02035983 -0.03607824\n",
            "   -0.03206537  0.02643689  0.03777478 -0.00899317  0.01333355]\n",
            "  [-0.00676087  0.03904044  0.00479779 -0.02978393  0.02397071\n",
            "    0.03766178 -0.0092328  -0.03824631 -0.03726087  0.04569164]\n",
            "  [-0.04575538  0.04188532  0.01740856 -0.00267079 -0.00815887\n",
            "   -0.04747143 -0.02846756 -0.00109354 -0.00825974  0.03024724]\n",
            "  [-0.04356548  0.02670497 -0.0180442  -0.00757015  0.00827466\n",
            "    0.01629097  0.00119376 -0.04088793  0.03524628  0.0412981 ]]\n",
            "\n",
            " [[ 0.03938437 -0.02009605 -0.03878935 -0.04955565  0.00419912\n",
            "   -0.01431773  0.02523251  0.01653036  0.04291571 -0.00864979]\n",
            "  [ 0.03938437 -0.02009605 -0.03878935 -0.04955565  0.00419912\n",
            "   -0.01431773  0.02523251  0.01653036  0.04291571 -0.00864979]\n",
            "  [ 0.03938437 -0.02009605 -0.03878935 -0.04955565  0.00419912\n",
            "   -0.01431773  0.02523251  0.01653036  0.04291571 -0.00864979]\n",
            "  [-0.04503573 -0.01525755  0.0247951   0.0397242  -0.01098786\n",
            "   -0.01889135  0.01474792  0.01420038  0.01264313 -0.02099638]\n",
            "  [ 0.03059326 -0.04286614  0.00899569  0.00743791 -0.000781\n",
            "    0.04186494  0.03977301  0.00326709  0.00619651 -0.01993654]\n",
            "  [-0.00189289 -0.01293756  0.01065254  0.00630366  0.02548606\n",
            "   -0.02246332 -0.03166081  0.0488782   0.04733732 -0.00055351]\n",
            "  [-0.00653008  0.02340979 -0.01967902 -0.00494973 -0.02693756\n",
            "   -0.03746525  0.01460877 -0.00449115 -0.00130982 -0.0039017 ]\n",
            "  [ 0.01523279  0.03147752 -0.00877231 -0.04363536  0.02689752\n",
            "    0.0303895   0.03939242 -0.01938576  0.03533088  0.04882917]]\n",
            "\n",
            " [[ 0.03938437 -0.02009605 -0.03878935 -0.04955565  0.00419912\n",
            "   -0.01431773  0.02523251  0.01653036  0.04291571 -0.00864979]\n",
            "  [ 0.03938437 -0.02009605 -0.03878935 -0.04955565  0.00419912\n",
            "   -0.01431773  0.02523251  0.01653036  0.04291571 -0.00864979]\n",
            "  [ 0.03938437 -0.02009605 -0.03878935 -0.04955565  0.00419912\n",
            "   -0.01431773  0.02523251  0.01653036  0.04291571 -0.00864979]\n",
            "  [ 0.03938437 -0.02009605 -0.03878935 -0.04955565  0.00419912\n",
            "   -0.01431773  0.02523251  0.01653036  0.04291571 -0.00864979]\n",
            "  [ 0.02216006 -0.03527117 -0.04675846 -0.01894816  0.03763377\n",
            "    0.03965045  0.04765204 -0.00806187 -0.01859087 -0.02574421]\n",
            "  [ 0.04836557 -0.01613583  0.00869457  0.02868301  0.0297311\n",
            "   -0.04792688  0.02694935 -0.02964565  0.03412347 -0.03255747]\n",
            "  [ 0.03478764 -0.0400234   0.01112056 -0.00944598  0.00491976\n",
            "    0.02883413 -0.00612055 -0.00938722  0.01297954 -0.00811065]\n",
            "  [-0.04575538  0.04188532  0.01740856 -0.00267079 -0.00815887\n",
            "   -0.04747143 -0.02846756 -0.00109354 -0.00825974  0.03024724]]]\n"
          ]
        }
      ],
      "source": [
        "print(model.predict(embedded_docs))"
      ]
    },
    {
      "cell_type": "code",
      "execution_count": null,
      "metadata": {
        "id": "JuUxfk7d0XGH",
        "outputId": "c28e6fc6-3db2-4975-9dd3-950b7da8c67e"
      },
      "outputs": [
        {
          "data": {
            "text/plain": [
              "array([   0,    0,    0,    0, 6654,  998, 8966, 1609])"
            ]
          },
          "execution_count": 37,
          "metadata": {},
          "output_type": "execute_result"
        }
      ],
      "source": [
        "embedded_docs[0]"
      ]
    },
    {
      "cell_type": "code",
      "execution_count": null,
      "metadata": {
        "id": "6JJ_zD0u0XGH",
        "outputId": "8b2b65cb-457b-46f4-dd60-c5fe8ab0566f"
      },
      "outputs": [
        {
          "name": "stdout",
          "output_type": "stream",
          "text": [
            "[[-0.00425554 -0.00159295 -0.04714153  0.04425247 -0.00973954 -0.04325813\n",
            "   0.04007108 -0.0143286  -0.03659749 -0.02379028]\n",
            " [-0.00425554 -0.00159295 -0.04714153  0.04425247 -0.00973954 -0.04325813\n",
            "   0.04007108 -0.0143286  -0.03659749 -0.02379028]\n",
            " [-0.00425554 -0.00159295 -0.04714153  0.04425247 -0.00973954 -0.04325813\n",
            "   0.04007108 -0.0143286  -0.03659749 -0.02379028]\n",
            " [-0.00425554 -0.00159295 -0.04714153  0.04425247 -0.00973954 -0.04325813\n",
            "   0.04007108 -0.0143286  -0.03659749 -0.02379028]\n",
            " [-0.03786323 -0.02628061  0.02974111 -0.03307171  0.0271405   0.00945134\n",
            "   0.02378127  0.04176904  0.00514941  0.0152082 ]\n",
            " [ 0.04834186  0.04388311 -0.02802253 -0.01475487 -0.01212303  0.03762435\n",
            "  -0.01166249 -0.02141088  0.04654533  0.01537322]\n",
            " [ 0.03276015 -0.00637691  0.03907344 -0.01912468  0.02177186 -0.04630325\n",
            "   0.00800942 -0.03115667 -0.00486455 -0.04843524]\n",
            " [-0.04173617  0.03438064  0.02880521 -0.01896455  0.0323303  -0.00109453\n",
            "  -0.01675171 -0.00941917 -0.03309294 -0.04779492]]\n"
          ]
        }
      ],
      "source": [
        "print(model.predict(embedded_docs)[0])"
      ]
    }
  ],
  "metadata": {
    "kernelspec": {
      "display_name": "Python 3",
      "name": "python3"
    },
    "language_info": {
      "codemirror_mode": {
        "name": "ipython",
        "version": 3
      },
      "file_extension": ".py",
      "mimetype": "text/x-python",
      "name": "python",
      "nbconvert_exporter": "python",
      "pygments_lexer": "ipython3",
      "version": "3.7.4"
    },
    "colab": {
      "provenance": [],
      "gpuType": "T4"
    }
  },
  "nbformat": 4,
  "nbformat_minor": 0
}