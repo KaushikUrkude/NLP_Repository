{
  "nbformat": 4,
  "nbformat_minor": 0,
  "metadata": {
    "colab": {
      "provenance": []
    },
    "kernelspec": {
      "name": "python3",
      "display_name": "Python 3"
    },
    "language_info": {
      "name": "python"
    }
  },
  "cells": [
    {
      "cell_type": "code",
      "source": [
        "!pip install nltk"
      ],
      "metadata": {
        "colab": {
          "base_uri": "https://localhost:8080/"
        },
        "id": "5xUF6uCrR6ag",
        "outputId": "e9d3897e-1bc3-4da5-8d8b-885961890ffe"
      },
      "execution_count": 2,
      "outputs": [
        {
          "output_type": "stream",
          "name": "stdout",
          "text": [
            "Requirement already satisfied: nltk in /usr/local/lib/python3.10/dist-packages (3.8.1)\n",
            "Requirement already satisfied: click in /usr/local/lib/python3.10/dist-packages (from nltk) (8.1.7)\n",
            "Requirement already satisfied: joblib in /usr/local/lib/python3.10/dist-packages (from nltk) (1.3.2)\n",
            "Requirement already satisfied: regex>=2021.8.3 in /usr/local/lib/python3.10/dist-packages (from nltk) (2023.12.25)\n",
            "Requirement already satisfied: tqdm in /usr/local/lib/python3.10/dist-packages (from nltk) (4.66.2)\n"
          ]
        }
      ]
    },
    {
      "cell_type": "markdown",
      "source": [
        "**PorterStemmer**"
      ],
      "metadata": {
        "id": "M9I_oQBuTFLP"
      }
    },
    {
      "cell_type": "code",
      "execution_count": 4,
      "metadata": {
        "id": "uV4cORK_Qkh4"
      },
      "outputs": [],
      "source": [
        "from nltk.stem import PorterStemmer"
      ]
    },
    {
      "cell_type": "code",
      "source": [
        "words = [\"jumping\", \"jumped\", \"jumps\", \"runner\", \"running\", \"runs\", \"swimming\", \"swam\", \"swims\", \"actor\", \"actress\", \"acting\", \"runs\", \"friendly\", \"friendliness\", \"quickly\", \"quicker\", \"quickest\", \"organization\", \"organizational\"]\n"
      ],
      "metadata": {
        "id": "Yi9MY7fYRwhi"
      },
      "execution_count": 5,
      "outputs": []
    },
    {
      "cell_type": "code",
      "source": [
        "stemming = PorterStemmer()"
      ],
      "metadata": {
        "id": "RlJyEC60SE43"
      },
      "execution_count": 8,
      "outputs": []
    },
    {
      "cell_type": "code",
      "source": [
        "for word in words:\n",
        "  print(word+\"----->\"+stemming.stem(word))"
      ],
      "metadata": {
        "colab": {
          "base_uri": "https://localhost:8080/"
        },
        "id": "c3pOPZxeSKcP",
        "outputId": "9ee3bb6b-ac29-4a47-8aeb-3c69aa4e5e10"
      },
      "execution_count": 9,
      "outputs": [
        {
          "output_type": "stream",
          "name": "stdout",
          "text": [
            "jumping----->jump\n",
            "jumped----->jump\n",
            "jumps----->jump\n",
            "runner----->runner\n",
            "running----->run\n",
            "runs----->run\n",
            "swimming----->swim\n",
            "swam----->swam\n",
            "swims----->swim\n",
            "actor----->actor\n",
            "actress----->actress\n",
            "acting----->act\n",
            "runs----->run\n",
            "friendly----->friendli\n",
            "friendliness----->friendli\n",
            "quickly----->quickli\n",
            "quicker----->quicker\n",
            "quickest----->quickest\n",
            "organization----->organ\n",
            "organizational----->organiz\n"
          ]
        }
      ]
    },
    {
      "cell_type": "markdown",
      "source": [
        "**Here we can see there are some word with no meaning**"
      ],
      "metadata": {
        "id": "Qy2LWaJFSimf"
      }
    },
    {
      "cell_type": "code",
      "source": [
        "from nltk.stem import RegexpStemmer"
      ],
      "metadata": {
        "id": "P1tQ313ySpZX"
      },
      "execution_count": 10,
      "outputs": []
    },
    {
      "cell_type": "markdown",
      "source": [
        "**RegexpStemmer**\n",
        "cutsom Regex can be used"
      ],
      "metadata": {
        "id": "JqQg4Lr2TI7e"
      }
    },
    {
      "cell_type": "code",
      "source": [
        "re_stemmer = RegexpStemmer('ing$|s$|e$|able$', min=4)"
      ],
      "metadata": {
        "id": "7qNj619pUIUQ"
      },
      "execution_count": 13,
      "outputs": []
    },
    {
      "cell_type": "code",
      "source": [
        "re_stemmer.stem('eating')\n",
        "##reoved ing from the word"
      ],
      "metadata": {
        "colab": {
          "base_uri": "https://localhost:8080/",
          "height": 36
        },
        "id": "YkBacDmtUWHP",
        "outputId": "ced5ce88-4a7d-4df9-abde-416ec6d6d939"
      },
      "execution_count": 18,
      "outputs": [
        {
          "output_type": "execute_result",
          "data": {
            "text/plain": [
              "'eat'"
            ],
            "application/vnd.google.colaboratory.intrinsic+json": {
              "type": "string"
            }
          },
          "metadata": {},
          "execution_count": 18
        }
      ]
    },
    {
      "cell_type": "markdown",
      "source": [
        "**Snowball Stemmer** - better than porter"
      ],
      "metadata": {
        "id": "Q5M-QrNIU40_"
      }
    },
    {
      "cell_type": "code",
      "source": [
        "from nltk.stem import SnowballStemmer"
      ],
      "metadata": {
        "id": "Bf1i0vVoVCOI"
      },
      "execution_count": 19,
      "outputs": []
    },
    {
      "cell_type": "code",
      "source": [
        "ss_stemer = SnowballStemmer(\"english\")"
      ],
      "metadata": {
        "id": "P6uzOI2UVJrn"
      },
      "execution_count": 22,
      "outputs": []
    },
    {
      "cell_type": "code",
      "source": [
        "for word in words:\n",
        "  print(word+\"------->\"+ss_stemer.stem(word))"
      ],
      "metadata": {
        "colab": {
          "base_uri": "https://localhost:8080/"
        },
        "id": "YrY04X-WVSlf",
        "outputId": "b86e1c13-8c03-4d4d-f293-e91cad1db44e"
      },
      "execution_count": 24,
      "outputs": [
        {
          "output_type": "stream",
          "name": "stdout",
          "text": [
            "jumping------->jump\n",
            "jumped------->jump\n",
            "jumps------->jump\n",
            "runner------->runner\n",
            "running------->run\n",
            "runs------->run\n",
            "swimming------->swim\n",
            "swam------->swam\n",
            "swims------->swim\n",
            "actor------->actor\n",
            "actress------->actress\n",
            "acting------->act\n",
            "runs------->run\n",
            "friendly------->friend\n",
            "friendliness------->friendli\n",
            "quickly------->quick\n",
            "quicker------->quicker\n",
            "quickest------->quickest\n",
            "organization------->organ\n",
            "organizational------->organiz\n"
          ]
        }
      ]
    },
    {
      "cell_type": "code",
      "source": [
        "##The result is same but the diff can be seen in below example"
      ],
      "metadata": {
        "id": "-rs1Bh-UVuKA"
      },
      "execution_count": null,
      "outputs": []
    },
    {
      "cell_type": "code",
      "source": [
        "new_word = ['fairly','sportingly']"
      ],
      "metadata": {
        "id": "prbzR43pV7HH"
      },
      "execution_count": 25,
      "outputs": []
    },
    {
      "cell_type": "code",
      "source": [
        "for word in new_word:\n",
        "  print('snowball>> ' +word+'----->'+ss_stemer.stem(word) , '*** Porter>> ' +word+'----->'+stemming.stem(word))\n",
        "  print()"
      ],
      "metadata": {
        "colab": {
          "base_uri": "https://localhost:8080/"
        },
        "id": "hlpoAl9IWEAP",
        "outputId": "acfc43de-b837-4da2-a47a-45450d74855c"
      },
      "execution_count": 34,
      "outputs": [
        {
          "output_type": "stream",
          "name": "stdout",
          "text": [
            "snowball>> fairly----->fair *** Porter>> fairly----->fairli\n",
            "\n",
            "snowball>> sportingly----->sport *** Porter>> sportingly----->sportingli\n",
            "\n"
          ]
        }
      ]
    }
  ]
}