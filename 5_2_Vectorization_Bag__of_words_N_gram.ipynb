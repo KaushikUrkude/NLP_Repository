{
  "nbformat": 4,
  "nbformat_minor": 0,
  "metadata": {
    "colab": {
      "provenance": []
    },
    "kernelspec": {
      "name": "python3",
      "display_name": "Python 3"
    },
    "language_info": {
      "name": "python"
    }
  },
  "cells": [
    {
      "cell_type": "markdown",
      "source": [
        "# \"Bag of Words is a text representation technique in natural language processing where each document is represented as a vector, ignoring word order and considering word frequency. It involves tokenization, vocabulary creation, and vectorization, making it a simple yet effective method for text analysis.\""
      ],
      "metadata": {
        "id": "jmhv6qMNB5dm"
      }
    },
    {
      "cell_type": "code",
      "execution_count": 1,
      "metadata": {
        "colab": {
          "base_uri": "https://localhost:8080/"
        },
        "id": "Qf1llEmI0AlD",
        "outputId": "f5b3ebde-1993-4984-a295-0d60d0e6ddf4"
      },
      "outputs": [
        {
          "output_type": "stream",
          "name": "stdout",
          "text": [
            "Requirement already satisfied: nltk in /usr/local/lib/python3.10/dist-packages (3.8.1)\n",
            "Requirement already satisfied: click in /usr/local/lib/python3.10/dist-packages (from nltk) (8.1.7)\n",
            "Requirement already satisfied: joblib in /usr/local/lib/python3.10/dist-packages (from nltk) (1.3.2)\n",
            "Requirement already satisfied: regex>=2021.8.3 in /usr/local/lib/python3.10/dist-packages (from nltk) (2023.12.25)\n",
            "Requirement already satisfied: tqdm in /usr/local/lib/python3.10/dist-packages (from nltk) (4.66.2)\n"
          ]
        },
        {
          "output_type": "stream",
          "name": "stderr",
          "text": [
            "[nltk_data] Downloading package punkt to /root/nltk_data...\n",
            "[nltk_data]   Unzipping tokenizers/punkt.zip.\n"
          ]
        },
        {
          "output_type": "execute_result",
          "data": {
            "text/plain": [
              "True"
            ]
          },
          "metadata": {},
          "execution_count": 1
        }
      ],
      "source": [
        "!pip install nltk\n",
        "import nltk\n",
        "nltk.download('punkt') ##for tokenization"
      ]
    },
    {
      "cell_type": "code",
      "source": [
        "paragraph = \"\"\"The octopus is a fascinating marine creature known for its intelligence, unique appearance, and remarkable abilities. Belonging to the class Cephalopoda, which also includes squids and cuttlefish, octopuses are highly adaptable and can be found in various ocean environments, from shallow coastal waters to deep-sea regions.\n",
        "Key characteristics of octopuses include their soft, bulbous bodies, large heads, and distinctive arms, usually eight in number. Each arm is lined with suckers that are highly sensitive to touch and taste. Octopuses are known for their exceptional problem-solving abilities, which are attributed to their well-developed nervous system and complex brain.\n",
        "One of the most intriguing features of octopuses is their ability to change color and texture rapidly, allowing them to blend into their surroundings for camouflage or communicate with other octopuses. This camouflaging ability is achieved through specialized pigment cells called chromatophores in their skin.\n",
        "Octopuses are also known for their intelligence, exhibiting advanced problem-solving skills, memory, and the ability to learn through observation. They have been observed using tools, escaping from predators, and even opening jars to access food. Some species of octopuses are also known for their unique behaviors, such as mimicry, where they imitate other marine animals to avoid predators.\n",
        "Reproduction in octopuses is a fascinating process. Males typically use a specialized arm called a hectocotylus to transfer sperm to the female's mantle during mating. After laying a large number of eggs, the female guards and cares for them until they hatch. Interestingly, octopuses are semelparous, meaning they reproduce only once in their lifetime, and females often die shortly after their eggs hatch.\n",
        "Despite their intriguing characteristics, octopuses have relatively short lifespans, ranging from a few months to a couple of years, depending on the species. Their adaptability, intelligence, and unique features make octopuses subjects of great interest in marine biology and have inspired curiosity and awe among scientists and enthusiasts alike.\n",
        "\"\"\""
      ],
      "metadata": {
        "id": "_Pq9ajme0Ra8"
      },
      "execution_count": 2,
      "outputs": []
    },
    {
      "cell_type": "markdown",
      "source": [
        "**Tokenization**"
      ],
      "metadata": {
        "id": "Hdt8HrIJBBQM"
      }
    },
    {
      "cell_type": "code",
      "source": [
        "sentences = nltk.sent_tokenize(paragraph)"
      ],
      "metadata": {
        "id": "US-oXvla28kc"
      },
      "execution_count": 3,
      "outputs": []
    },
    {
      "cell_type": "code",
      "source": [
        "sentences"
      ],
      "metadata": {
        "colab": {
          "base_uri": "https://localhost:8080/"
        },
        "id": "DjaFz6-sBdd9",
        "outputId": "3d1c20c4-870a-4f3a-e699-41245bfd15f9"
      },
      "execution_count": 4,
      "outputs": [
        {
          "output_type": "execute_result",
          "data": {
            "text/plain": [
              "['The octopus is a fascinating marine creature known for its intelligence, unique appearance, and remarkable abilities.',\n",
              " 'Belonging to the class Cephalopoda, which also includes squids and cuttlefish, octopuses are highly adaptable and can be found in various ocean environments, from shallow coastal waters to deep-sea regions.',\n",
              " 'Key characteristics of octopuses include their soft, bulbous bodies, large heads, and distinctive arms, usually eight in number.',\n",
              " 'Each arm is lined with suckers that are highly sensitive to touch and taste.',\n",
              " 'Octopuses are known for their exceptional problem-solving abilities, which are attributed to their well-developed nervous system and complex brain.',\n",
              " 'One of the most intriguing features of octopuses is their ability to change color and texture rapidly, allowing them to blend into their surroundings for camouflage or communicate with other octopuses.',\n",
              " 'This camouflaging ability is achieved through specialized pigment cells called chromatophores in their skin.',\n",
              " 'Octopuses are also known for their intelligence, exhibiting advanced problem-solving skills, memory, and the ability to learn through observation.',\n",
              " 'They have been observed using tools, escaping from predators, and even opening jars to access food.',\n",
              " 'Some species of octopuses are also known for their unique behaviors, such as mimicry, where they imitate other marine animals to avoid predators.',\n",
              " 'Reproduction in octopuses is a fascinating process.',\n",
              " \"Males typically use a specialized arm called a hectocotylus to transfer sperm to the female's mantle during mating.\",\n",
              " 'After laying a large number of eggs, the female guards and cares for them until they hatch.',\n",
              " 'Interestingly, octopuses are semelparous, meaning they reproduce only once in their lifetime, and females often die shortly after their eggs hatch.',\n",
              " 'Despite their intriguing characteristics, octopuses have relatively short lifespans, ranging from a few months to a couple of years, depending on the species.',\n",
              " 'Their adaptability, intelligence, and unique features make octopuses subjects of great interest in marine biology and have inspired curiosity and awe among scientists and enthusiasts alike.']"
            ]
          },
          "metadata": {},
          "execution_count": 4
        }
      ]
    },
    {
      "cell_type": "markdown",
      "source": [
        "**Stopwords and then Lemmatization**"
      ],
      "metadata": {
        "id": "rpCiNXuDBFOM"
      }
    },
    {
      "cell_type": "code",
      "source": [
        "from nltk.stem import WordNetLemmatizer\n",
        "from nltk.corpus import stopwords\n",
        "nltk.download('stopwords') ##for stopwords\n",
        "nltk.download('wordnet')"
      ],
      "metadata": {
        "colab": {
          "base_uri": "https://localhost:8080/"
        },
        "id": "F1tPT-85Aj3c",
        "outputId": "bf5bcbfd-3c2b-4f45-cae3-4226da3641e3"
      },
      "execution_count": 5,
      "outputs": [
        {
          "output_type": "stream",
          "name": "stderr",
          "text": [
            "[nltk_data] Downloading package stopwords to /root/nltk_data...\n",
            "[nltk_data]   Unzipping corpora/stopwords.zip.\n",
            "[nltk_data] Downloading package wordnet to /root/nltk_data...\n"
          ]
        },
        {
          "output_type": "execute_result",
          "data": {
            "text/plain": [
              "True"
            ]
          },
          "metadata": {},
          "execution_count": 5
        }
      ]
    },
    {
      "cell_type": "code",
      "source": [
        "lemma = WordNetLemmatizer()"
      ],
      "metadata": {
        "id": "cq7ICuIuAac1"
      },
      "execution_count": 6,
      "outputs": []
    },
    {
      "cell_type": "code",
      "source": [
        "for i in range (len(sentences)):\n",
        "  words = nltk.word_tokenize(sentences[i])\n",
        "  words = [lemma.lemmatize(word.lower(),pos='v') for word in words if word not in set(stopwords.words('english'))]\n",
        "  sentences[i] = ' '.join(words)"
      ],
      "metadata": {
        "id": "EX5PlUXfAR7G"
      },
      "execution_count": 7,
      "outputs": []
    },
    {
      "cell_type": "code",
      "source": [
        "sentences"
      ],
      "metadata": {
        "colab": {
          "base_uri": "https://localhost:8080/"
        },
        "id": "k88IMlnpA5TF",
        "outputId": "0b79b55d-084a-4e51-815c-437142eb18d5"
      },
      "execution_count": 8,
      "outputs": [
        {
          "output_type": "execute_result",
          "data": {
            "text/plain": [
              "['the octopus fascinate marine creature know intelligence , unique appearance , remarkable abilities .',\n",
              " 'belong class cephalopoda , also include squids cuttlefish , octopuses highly adaptable find various ocean environments , shallow coastal water deep-sea regions .',\n",
              " 'key characteristics octopuses include soft , bulbous body , large head , distinctive arm , usually eight number .',\n",
              " 'each arm line suckers highly sensitive touch taste .',\n",
              " 'octopuses know exceptional problem-solving abilities , attribute well-developed nervous system complex brain .',\n",
              " 'one intrigue feature octopuses ability change color texture rapidly , allow blend surround camouflage communicate octopuses .',\n",
              " 'this camouflage ability achieve specialize pigment cells call chromatophores skin .',\n",
              " 'octopuses also know intelligence , exhibit advance problem-solving skills , memory , ability learn observation .',\n",
              " 'they observe use tool , escape predators , even open jar access food .',\n",
              " 'some species octopuses also know unique behaviors , mimicry , imitate marine animals avoid predators .',\n",
              " 'reproduction octopuses fascinate process .',\n",
              " \"males typically use specialize arm call hectocotylus transfer sperm female 's mantle mat .\",\n",
              " 'after lay large number egg , female guard care hatch .',\n",
              " 'interestingly , octopuses semelparous , mean reproduce lifetime , females often die shortly egg hatch .',\n",
              " 'despite intrigue characteristics , octopuses relatively short lifespans , range months couple years , depend species .',\n",
              " 'their adaptability , intelligence , unique feature make octopuses subject great interest marine biology inspire curiosity awe among scientists enthusiasts alike .']"
            ]
          },
          "metadata": {},
          "execution_count": 8
        }
      ]
    },
    {
      "cell_type": "code",
      "source": [
        "##Before this we can also use lemmatization\n",
        "from sklearn.feature_extraction.text import CountVectorizer\n",
        "cv = CountVectorizer(binary=True,ngram_range=(2,3)) ##Binary if true all frequency will be equals to 1 else it will be the no of frequency"
      ],
      "metadata": {
        "id": "5H5kQqu421mc"
      },
      "execution_count": 15,
      "outputs": []
    },
    {
      "cell_type": "code",
      "source": [
        "##VEctorization\n",
        "X = cv.fit_transform(sentences)"
      ],
      "metadata": {
        "id": "ww0Za5ud27cF"
      },
      "execution_count": 16,
      "outputs": []
    },
    {
      "cell_type": "code",
      "source": [
        "print(cv.get_feature_names_out())"
      ],
      "metadata": {
        "colab": {
          "base_uri": "https://localhost:8080/"
        },
        "id": "awuLWhIC8dFk",
        "outputId": "a69ce6fd-fc77-483d-debe-7822020d979b"
      },
      "execution_count": 18,
      "outputs": [
        {
          "output_type": "stream",
          "name": "stdout",
          "text": [
            "['abilities attribute' 'abilities attribute well' 'ability achieve'\n",
            " 'ability achieve specialize' 'ability change' 'ability change color'\n",
            " 'ability learn' 'ability learn observation' 'access food'\n",
            " 'achieve specialize' 'achieve specialize pigment'\n",
            " 'adaptability intelligence' 'adaptability intelligence unique'\n",
            " 'adaptable find' 'adaptable find various' 'advance problem'\n",
            " 'advance problem solving' 'after lay' 'after lay large' 'allow blend'\n",
            " 'allow blend surround' 'also include' 'also include squids' 'also know'\n",
            " 'also know intelligence' 'also know unique' 'among scientists'\n",
            " 'among scientists enthusiasts' 'animals avoid' 'animals avoid predators'\n",
            " 'appearance remarkable' 'appearance remarkable abilities' 'arm call'\n",
            " 'arm call hectocotylus' 'arm line' 'arm line suckers' 'arm usually'\n",
            " 'arm usually eight' 'attribute well' 'attribute well developed'\n",
            " 'avoid predators' 'awe among' 'awe among scientists' 'behaviors mimicry'\n",
            " 'behaviors mimicry imitate' 'belong class' 'belong class cephalopoda'\n",
            " 'biology inspire' 'biology inspire curiosity' 'blend surround'\n",
            " 'blend surround camouflage' 'body large' 'body large head' 'bulbous body'\n",
            " 'bulbous body large' 'call chromatophores' 'call chromatophores skin'\n",
            " 'call hectocotylus' 'call hectocotylus transfer' 'camouflage ability'\n",
            " 'camouflage ability achieve' 'camouflage communicate'\n",
            " 'camouflage communicate octopuses' 'care hatch' 'cells call'\n",
            " 'cells call chromatophores' 'cephalopoda also' 'cephalopoda also include'\n",
            " 'change color' 'change color texture' 'characteristics octopuses'\n",
            " 'characteristics octopuses include'\n",
            " 'characteristics octopuses relatively' 'chromatophores skin'\n",
            " 'class cephalopoda' 'class cephalopoda also' 'coastal water'\n",
            " 'coastal water deep' 'color texture' 'color texture rapidly'\n",
            " 'communicate octopuses' 'complex brain' 'couple years'\n",
            " 'couple years depend' 'creature know' 'creature know intelligence'\n",
            " 'curiosity awe' 'curiosity awe among' 'cuttlefish octopuses'\n",
            " 'cuttlefish octopuses highly' 'deep sea' 'deep sea regions'\n",
            " 'depend species' 'despite intrigue' 'despite intrigue characteristics'\n",
            " 'developed nervous' 'developed nervous system' 'die shortly'\n",
            " 'die shortly egg' 'distinctive arm' 'distinctive arm usually' 'each arm'\n",
            " 'each arm line' 'egg female' 'egg female guard' 'egg hatch'\n",
            " 'eight number' 'enthusiasts alike' 'environments shallow'\n",
            " 'environments shallow coastal' 'escape predators' 'escape predators even'\n",
            " 'even open' 'even open jar' 'exceptional problem'\n",
            " 'exceptional problem solving' 'exhibit advance' 'exhibit advance problem'\n",
            " 'fascinate marine' 'fascinate marine creature' 'fascinate process'\n",
            " 'feature make' 'feature make octopuses' 'feature octopuses'\n",
            " 'feature octopuses ability' 'female guard' 'female guard care'\n",
            " 'female mantle' 'female mantle mat' 'females often' 'females often die'\n",
            " 'find various' 'find various ocean' 'great interest'\n",
            " 'great interest marine' 'guard care' 'guard care hatch'\n",
            " 'head distinctive' 'head distinctive arm' 'hectocotylus transfer'\n",
            " 'hectocotylus transfer sperm' 'highly adaptable' 'highly adaptable find'\n",
            " 'highly sensitive' 'highly sensitive touch' 'imitate marine'\n",
            " 'imitate marine animals' 'include soft' 'include soft bulbous'\n",
            " 'include squids' 'include squids cuttlefish' 'inspire curiosity'\n",
            " 'inspire curiosity awe' 'intelligence exhibit'\n",
            " 'intelligence exhibit advance' 'intelligence unique'\n",
            " 'intelligence unique appearance' 'intelligence unique feature'\n",
            " 'interest marine' 'interest marine biology' 'interestingly octopuses'\n",
            " 'interestingly octopuses semelparous' 'intrigue characteristics'\n",
            " 'intrigue characteristics octopuses' 'intrigue feature'\n",
            " 'intrigue feature octopuses' 'jar access' 'jar access food'\n",
            " 'key characteristics' 'key characteristics octopuses' 'know exceptional'\n",
            " 'know exceptional problem' 'know intelligence'\n",
            " 'know intelligence exhibit' 'know intelligence unique' 'know unique'\n",
            " 'know unique behaviors' 'large head' 'large head distinctive'\n",
            " 'large number' 'large number egg' 'lay large' 'lay large number'\n",
            " 'learn observation' 'lifespans range' 'lifespans range months'\n",
            " 'lifetime females' 'lifetime females often' 'line suckers'\n",
            " 'line suckers highly' 'make octopuses' 'make octopuses subject'\n",
            " 'males typically' 'males typically use' 'mantle mat' 'marine animals'\n",
            " 'marine animals avoid' 'marine biology' 'marine biology inspire'\n",
            " 'marine creature' 'marine creature know' 'mean reproduce'\n",
            " 'mean reproduce lifetime' 'memory ability' 'memory ability learn'\n",
            " 'mimicry imitate' 'mimicry imitate marine' 'months couple'\n",
            " 'months couple years' 'nervous system' 'nervous system complex'\n",
            " 'number egg' 'number egg female' 'observe use' 'observe use tool'\n",
            " 'ocean environments' 'ocean environments shallow' 'octopus fascinate'\n",
            " 'octopus fascinate marine' 'octopuses ability' 'octopuses ability change'\n",
            " 'octopuses also' 'octopuses also know' 'octopuses fascinate'\n",
            " 'octopuses fascinate process' 'octopuses highly'\n",
            " 'octopuses highly adaptable' 'octopuses include' 'octopuses include soft'\n",
            " 'octopuses know' 'octopuses know exceptional' 'octopuses relatively'\n",
            " 'octopuses relatively short' 'octopuses semelparous'\n",
            " 'octopuses semelparous mean' 'octopuses subject'\n",
            " 'octopuses subject great' 'often die' 'often die shortly' 'one intrigue'\n",
            " 'one intrigue feature' 'open jar' 'open jar access' 'pigment cells'\n",
            " 'pigment cells call' 'predators even' 'predators even open'\n",
            " 'problem solving' 'problem solving abilities' 'problem solving skills'\n",
            " 'range months' 'range months couple' 'rapidly allow'\n",
            " 'rapidly allow blend' 'relatively short' 'relatively short lifespans'\n",
            " 'remarkable abilities' 'reproduce lifetime' 'reproduce lifetime females'\n",
            " 'reproduction octopuses' 'reproduction octopuses fascinate'\n",
            " 'scientists enthusiasts' 'scientists enthusiasts alike' 'sea regions'\n",
            " 'semelparous mean' 'semelparous mean reproduce' 'sensitive touch'\n",
            " 'sensitive touch taste' 'shallow coastal' 'shallow coastal water'\n",
            " 'short lifespans' 'short lifespans range' 'shortly egg'\n",
            " 'shortly egg hatch' 'skills memory' 'skills memory ability'\n",
            " 'soft bulbous' 'soft bulbous body' 'solving abilities'\n",
            " 'solving abilities attribute' 'solving skills' 'solving skills memory'\n",
            " 'some species' 'some species octopuses' 'specialize arm'\n",
            " 'specialize arm call' 'specialize pigment' 'specialize pigment cells'\n",
            " 'species octopuses' 'species octopuses also' 'sperm female'\n",
            " 'sperm female mantle' 'squids cuttlefish' 'squids cuttlefish octopuses'\n",
            " 'subject great' 'subject great interest' 'suckers highly'\n",
            " 'suckers highly sensitive' 'surround camouflage'\n",
            " 'surround camouflage communicate' 'system complex' 'system complex brain'\n",
            " 'texture rapidly' 'texture rapidly allow' 'the octopus'\n",
            " 'the octopus fascinate' 'their adaptability'\n",
            " 'their adaptability intelligence' 'they observe' 'they observe use'\n",
            " 'this camouflage' 'this camouflage ability' 'tool escape'\n",
            " 'tool escape predators' 'touch taste' 'transfer sperm'\n",
            " 'transfer sperm female' 'typically use' 'typically use specialize'\n",
            " 'unique appearance' 'unique appearance remarkable' 'unique behaviors'\n",
            " 'unique behaviors mimicry' 'unique feature' 'unique feature make'\n",
            " 'use specialize' 'use specialize arm' 'use tool' 'use tool escape'\n",
            " 'usually eight' 'usually eight number' 'various ocean'\n",
            " 'various ocean environments' 'water deep' 'water deep sea'\n",
            " 'well developed' 'well developed nervous' 'years depend'\n",
            " 'years depend species']\n"
          ]
        }
      ]
    },
    {
      "cell_type": "code",
      "source": [
        "cv.vocabulary_"
      ],
      "metadata": {
        "colab": {
          "base_uri": "https://localhost:8080/"
        },
        "id": "mLkqPfUS39Ls",
        "outputId": "5b804472-83bc-41a2-bda4-0d967d64e65b"
      },
      "execution_count": 19,
      "outputs": [
        {
          "output_type": "execute_result",
          "data": {
            "text/plain": [
              "{'the octopus': 304,\n",
              " 'octopus fascinate': 217,\n",
              " 'fascinate marine': 118,\n",
              " 'marine creature': 199,\n",
              " 'creature know': 84,\n",
              " 'know intelligence': 172,\n",
              " 'intelligence unique': 155,\n",
              " 'unique appearance': 319,\n",
              " 'appearance remarkable': 30,\n",
              " 'remarkable abilities': 256,\n",
              " 'the octopus fascinate': 305,\n",
              " 'octopus fascinate marine': 218,\n",
              " 'fascinate marine creature': 119,\n",
              " 'marine creature know': 200,\n",
              " 'creature know intelligence': 85,\n",
              " 'know intelligence unique': 174,\n",
              " 'intelligence unique appearance': 156,\n",
              " 'unique appearance remarkable': 320,\n",
              " 'appearance remarkable abilities': 31,\n",
              " 'belong class': 45,\n",
              " 'class cephalopoda': 74,\n",
              " 'cephalopoda also': 66,\n",
              " 'also include': 21,\n",
              " 'include squids': 149,\n",
              " 'squids cuttlefish': 292,\n",
              " 'cuttlefish octopuses': 88,\n",
              " 'octopuses highly': 225,\n",
              " 'highly adaptable': 141,\n",
              " 'adaptable find': 13,\n",
              " 'find various': 131,\n",
              " 'various ocean': 331,\n",
              " 'ocean environments': 215,\n",
              " 'environments shallow': 108,\n",
              " 'shallow coastal': 268,\n",
              " 'coastal water': 76,\n",
              " 'water deep': 333,\n",
              " 'deep sea': 90,\n",
              " 'sea regions': 263,\n",
              " 'belong class cephalopoda': 46,\n",
              " 'class cephalopoda also': 75,\n",
              " 'cephalopoda also include': 67,\n",
              " 'also include squids': 22,\n",
              " 'include squids cuttlefish': 150,\n",
              " 'squids cuttlefish octopuses': 293,\n",
              " 'cuttlefish octopuses highly': 89,\n",
              " 'octopuses highly adaptable': 226,\n",
              " 'highly adaptable find': 142,\n",
              " 'adaptable find various': 14,\n",
              " 'find various ocean': 132,\n",
              " 'various ocean environments': 332,\n",
              " 'ocean environments shallow': 216,\n",
              " 'environments shallow coastal': 109,\n",
              " 'shallow coastal water': 269,\n",
              " 'coastal water deep': 77,\n",
              " 'water deep sea': 334,\n",
              " 'deep sea regions': 91,\n",
              " 'key characteristics': 168,\n",
              " 'characteristics octopuses': 70,\n",
              " 'octopuses include': 227,\n",
              " 'include soft': 147,\n",
              " 'soft bulbous': 276,\n",
              " 'bulbous body': 53,\n",
              " 'body large': 51,\n",
              " 'large head': 177,\n",
              " 'head distinctive': 137,\n",
              " 'distinctive arm': 99,\n",
              " 'arm usually': 36,\n",
              " 'usually eight': 329,\n",
              " 'eight number': 106,\n",
              " 'key characteristics octopuses': 169,\n",
              " 'characteristics octopuses include': 71,\n",
              " 'octopuses include soft': 228,\n",
              " 'include soft bulbous': 148,\n",
              " 'soft bulbous body': 277,\n",
              " 'bulbous body large': 54,\n",
              " 'body large head': 52,\n",
              " 'large head distinctive': 178,\n",
              " 'head distinctive arm': 138,\n",
              " 'distinctive arm usually': 100,\n",
              " 'arm usually eight': 37,\n",
              " 'usually eight number': 330,\n",
              " 'each arm': 101,\n",
              " 'arm line': 34,\n",
              " 'line suckers': 188,\n",
              " 'suckers highly': 296,\n",
              " 'highly sensitive': 143,\n",
              " 'sensitive touch': 266,\n",
              " 'touch taste': 314,\n",
              " 'each arm line': 102,\n",
              " 'arm line suckers': 35,\n",
              " 'line suckers highly': 189,\n",
              " 'suckers highly sensitive': 297,\n",
              " 'highly sensitive touch': 144,\n",
              " 'sensitive touch taste': 267,\n",
              " 'octopuses know': 229,\n",
              " 'know exceptional': 170,\n",
              " 'exceptional problem': 114,\n",
              " 'problem solving': 247,\n",
              " 'solving abilities': 278,\n",
              " 'abilities attribute': 0,\n",
              " 'attribute well': 38,\n",
              " 'well developed': 335,\n",
              " 'developed nervous': 95,\n",
              " 'nervous system': 209,\n",
              " 'system complex': 300,\n",
              " 'complex brain': 81,\n",
              " 'octopuses know exceptional': 230,\n",
              " 'know exceptional problem': 171,\n",
              " 'exceptional problem solving': 115,\n",
              " 'problem solving abilities': 248,\n",
              " 'solving abilities attribute': 279,\n",
              " 'abilities attribute well': 1,\n",
              " 'attribute well developed': 39,\n",
              " 'well developed nervous': 336,\n",
              " 'developed nervous system': 96,\n",
              " 'nervous system complex': 210,\n",
              " 'system complex brain': 301,\n",
              " 'one intrigue': 239,\n",
              " 'intrigue feature': 164,\n",
              " 'feature octopuses': 123,\n",
              " 'octopuses ability': 219,\n",
              " 'ability change': 4,\n",
              " 'change color': 68,\n",
              " 'color texture': 78,\n",
              " 'texture rapidly': 302,\n",
              " 'rapidly allow': 252,\n",
              " 'allow blend': 19,\n",
              " 'blend surround': 49,\n",
              " 'surround camouflage': 298,\n",
              " 'camouflage communicate': 61,\n",
              " 'communicate octopuses': 80,\n",
              " 'one intrigue feature': 240,\n",
              " 'intrigue feature octopuses': 165,\n",
              " 'feature octopuses ability': 124,\n",
              " 'octopuses ability change': 220,\n",
              " 'ability change color': 5,\n",
              " 'change color texture': 69,\n",
              " 'color texture rapidly': 79,\n",
              " 'texture rapidly allow': 303,\n",
              " 'rapidly allow blend': 253,\n",
              " 'allow blend surround': 20,\n",
              " 'blend surround camouflage': 50,\n",
              " 'surround camouflage communicate': 299,\n",
              " 'camouflage communicate octopuses': 62,\n",
              " 'this camouflage': 310,\n",
              " 'camouflage ability': 59,\n",
              " 'ability achieve': 2,\n",
              " 'achieve specialize': 9,\n",
              " 'specialize pigment': 286,\n",
              " 'pigment cells': 243,\n",
              " 'cells call': 64,\n",
              " 'call chromatophores': 55,\n",
              " 'chromatophores skin': 73,\n",
              " 'this camouflage ability': 311,\n",
              " 'camouflage ability achieve': 60,\n",
              " 'ability achieve specialize': 3,\n",
              " 'achieve specialize pigment': 10,\n",
              " 'specialize pigment cells': 287,\n",
              " 'pigment cells call': 244,\n",
              " 'cells call chromatophores': 65,\n",
              " 'call chromatophores skin': 56,\n",
              " 'octopuses also': 221,\n",
              " 'also know': 23,\n",
              " 'intelligence exhibit': 153,\n",
              " 'exhibit advance': 116,\n",
              " 'advance problem': 15,\n",
              " 'solving skills': 280,\n",
              " 'skills memory': 274,\n",
              " 'memory ability': 203,\n",
              " 'ability learn': 6,\n",
              " 'learn observation': 183,\n",
              " 'octopuses also know': 222,\n",
              " 'also know intelligence': 24,\n",
              " 'know intelligence exhibit': 173,\n",
              " 'intelligence exhibit advance': 154,\n",
              " 'exhibit advance problem': 117,\n",
              " 'advance problem solving': 16,\n",
              " 'problem solving skills': 249,\n",
              " 'solving skills memory': 281,\n",
              " 'skills memory ability': 275,\n",
              " 'memory ability learn': 204,\n",
              " 'ability learn observation': 7,\n",
              " 'they observe': 308,\n",
              " 'observe use': 213,\n",
              " 'use tool': 327,\n",
              " 'tool escape': 312,\n",
              " 'escape predators': 110,\n",
              " 'predators even': 245,\n",
              " 'even open': 112,\n",
              " 'open jar': 241,\n",
              " 'jar access': 166,\n",
              " 'access food': 8,\n",
              " 'they observe use': 309,\n",
              " 'observe use tool': 214,\n",
              " 'use tool escape': 328,\n",
              " 'tool escape predators': 313,\n",
              " 'escape predators even': 111,\n",
              " 'predators even open': 246,\n",
              " 'even open jar': 113,\n",
              " 'open jar access': 242,\n",
              " 'jar access food': 167,\n",
              " 'some species': 282,\n",
              " 'species octopuses': 288,\n",
              " 'know unique': 175,\n",
              " 'unique behaviors': 321,\n",
              " 'behaviors mimicry': 43,\n",
              " 'mimicry imitate': 205,\n",
              " 'imitate marine': 145,\n",
              " 'marine animals': 195,\n",
              " 'animals avoid': 28,\n",
              " 'avoid predators': 40,\n",
              " 'some species octopuses': 283,\n",
              " 'species octopuses also': 289,\n",
              " 'also know unique': 25,\n",
              " 'know unique behaviors': 176,\n",
              " 'unique behaviors mimicry': 322,\n",
              " 'behaviors mimicry imitate': 44,\n",
              " 'mimicry imitate marine': 206,\n",
              " 'imitate marine animals': 146,\n",
              " 'marine animals avoid': 196,\n",
              " 'animals avoid predators': 29,\n",
              " 'reproduction octopuses': 259,\n",
              " 'octopuses fascinate': 223,\n",
              " 'fascinate process': 120,\n",
              " 'reproduction octopuses fascinate': 260,\n",
              " 'octopuses fascinate process': 224,\n",
              " 'males typically': 192,\n",
              " 'typically use': 317,\n",
              " 'use specialize': 325,\n",
              " 'specialize arm': 284,\n",
              " 'arm call': 32,\n",
              " 'call hectocotylus': 57,\n",
              " 'hectocotylus transfer': 139,\n",
              " 'transfer sperm': 315,\n",
              " 'sperm female': 290,\n",
              " 'female mantle': 127,\n",
              " 'mantle mat': 194,\n",
              " 'males typically use': 193,\n",
              " 'typically use specialize': 318,\n",
              " 'use specialize arm': 326,\n",
              " 'specialize arm call': 285,\n",
              " 'arm call hectocotylus': 33,\n",
              " 'call hectocotylus transfer': 58,\n",
              " 'hectocotylus transfer sperm': 140,\n",
              " 'transfer sperm female': 316,\n",
              " 'sperm female mantle': 291,\n",
              " 'female mantle mat': 128,\n",
              " 'after lay': 17,\n",
              " 'lay large': 181,\n",
              " 'large number': 179,\n",
              " 'number egg': 211,\n",
              " 'egg female': 103,\n",
              " 'female guard': 125,\n",
              " 'guard care': 135,\n",
              " 'care hatch': 63,\n",
              " 'after lay large': 18,\n",
              " 'lay large number': 182,\n",
              " 'large number egg': 180,\n",
              " 'number egg female': 212,\n",
              " 'egg female guard': 104,\n",
              " 'female guard care': 126,\n",
              " 'guard care hatch': 136,\n",
              " 'interestingly octopuses': 160,\n",
              " 'octopuses semelparous': 233,\n",
              " 'semelparous mean': 264,\n",
              " 'mean reproduce': 201,\n",
              " 'reproduce lifetime': 257,\n",
              " 'lifetime females': 186,\n",
              " 'females often': 129,\n",
              " 'often die': 237,\n",
              " 'die shortly': 97,\n",
              " 'shortly egg': 272,\n",
              " 'egg hatch': 105,\n",
              " 'interestingly octopuses semelparous': 161,\n",
              " 'octopuses semelparous mean': 234,\n",
              " 'semelparous mean reproduce': 265,\n",
              " 'mean reproduce lifetime': 202,\n",
              " 'reproduce lifetime females': 258,\n",
              " 'lifetime females often': 187,\n",
              " 'females often die': 130,\n",
              " 'often die shortly': 238,\n",
              " 'die shortly egg': 98,\n",
              " 'shortly egg hatch': 273,\n",
              " 'despite intrigue': 93,\n",
              " 'intrigue characteristics': 162,\n",
              " 'octopuses relatively': 231,\n",
              " 'relatively short': 254,\n",
              " 'short lifespans': 270,\n",
              " 'lifespans range': 184,\n",
              " 'range months': 250,\n",
              " 'months couple': 207,\n",
              " 'couple years': 82,\n",
              " 'years depend': 337,\n",
              " 'depend species': 92,\n",
              " 'despite intrigue characteristics': 94,\n",
              " 'intrigue characteristics octopuses': 163,\n",
              " 'characteristics octopuses relatively': 72,\n",
              " 'octopuses relatively short': 232,\n",
              " 'relatively short lifespans': 255,\n",
              " 'short lifespans range': 271,\n",
              " 'lifespans range months': 185,\n",
              " 'range months couple': 251,\n",
              " 'months couple years': 208,\n",
              " 'couple years depend': 83,\n",
              " 'years depend species': 338,\n",
              " 'their adaptability': 306,\n",
              " 'adaptability intelligence': 11,\n",
              " 'unique feature': 323,\n",
              " 'feature make': 121,\n",
              " 'make octopuses': 190,\n",
              " 'octopuses subject': 235,\n",
              " 'subject great': 294,\n",
              " 'great interest': 133,\n",
              " 'interest marine': 158,\n",
              " 'marine biology': 197,\n",
              " 'biology inspire': 47,\n",
              " 'inspire curiosity': 151,\n",
              " 'curiosity awe': 86,\n",
              " 'awe among': 41,\n",
              " 'among scientists': 26,\n",
              " 'scientists enthusiasts': 261,\n",
              " 'enthusiasts alike': 107,\n",
              " 'their adaptability intelligence': 307,\n",
              " 'adaptability intelligence unique': 12,\n",
              " 'intelligence unique feature': 157,\n",
              " 'unique feature make': 324,\n",
              " 'feature make octopuses': 122,\n",
              " 'make octopuses subject': 191,\n",
              " 'octopuses subject great': 236,\n",
              " 'subject great interest': 295,\n",
              " 'great interest marine': 134,\n",
              " 'interest marine biology': 159,\n",
              " 'marine biology inspire': 198,\n",
              " 'biology inspire curiosity': 48,\n",
              " 'inspire curiosity awe': 152,\n",
              " 'curiosity awe among': 87,\n",
              " 'awe among scientists': 42,\n",
              " 'among scientists enthusiasts': 27,\n",
              " 'scientists enthusiasts alike': 262}"
            ]
          },
          "metadata": {},
          "execution_count": 19
        }
      ]
    },
    {
      "cell_type": "code",
      "source": [
        "print(sentences[8])"
      ],
      "metadata": {
        "colab": {
          "base_uri": "https://localhost:8080/"
        },
        "id": "YQ6QEQkI4KWl",
        "outputId": "007da551-f510-43e4-9f5a-e91e873bb8cc"
      },
      "execution_count": 20,
      "outputs": [
        {
          "output_type": "stream",
          "name": "stdout",
          "text": [
            "they observe use tool , escape predators , even open jar access food .\n"
          ]
        }
      ]
    },
    {
      "cell_type": "code",
      "source": [
        "X[8].toarray()"
      ],
      "metadata": {
        "colab": {
          "base_uri": "https://localhost:8080/"
        },
        "id": "P-ygrXf54YD9",
        "outputId": "2cd83305-2b9e-4f85-ee10-962c98c19761"
      },
      "execution_count": 21,
      "outputs": [
        {
          "output_type": "execute_result",
          "data": {
            "text/plain": [
              "array([[0, 0, 0, 0, 0, 0, 0, 0, 1, 0, 0, 0, 0, 0, 0, 0, 0, 0, 0, 0, 0, 0,\n",
              "        0, 0, 0, 0, 0, 0, 0, 0, 0, 0, 0, 0, 0, 0, 0, 0, 0, 0, 0, 0, 0, 0,\n",
              "        0, 0, 0, 0, 0, 0, 0, 0, 0, 0, 0, 0, 0, 0, 0, 0, 0, 0, 0, 0, 0, 0,\n",
              "        0, 0, 0, 0, 0, 0, 0, 0, 0, 0, 0, 0, 0, 0, 0, 0, 0, 0, 0, 0, 0, 0,\n",
              "        0, 0, 0, 0, 0, 0, 0, 0, 0, 0, 0, 0, 0, 0, 0, 0, 0, 0, 0, 0, 0, 0,\n",
              "        1, 1, 1, 1, 0, 0, 0, 0, 0, 0, 0, 0, 0, 0, 0, 0, 0, 0, 0, 0, 0, 0,\n",
              "        0, 0, 0, 0, 0, 0, 0, 0, 0, 0, 0, 0, 0, 0, 0, 0, 0, 0, 0, 0, 0, 0,\n",
              "        0, 0, 0, 0, 0, 0, 0, 0, 0, 0, 0, 0, 1, 1, 0, 0, 0, 0, 0, 0, 0, 0,\n",
              "        0, 0, 0, 0, 0, 0, 0, 0, 0, 0, 0, 0, 0, 0, 0, 0, 0, 0, 0, 0, 0, 0,\n",
              "        0, 0, 0, 0, 0, 0, 0, 0, 0, 0, 0, 0, 0, 0, 0, 1, 1, 0, 0, 0, 0, 0,\n",
              "        0, 0, 0, 0, 0, 0, 0, 0, 0, 0, 0, 0, 0, 0, 0, 0, 0, 0, 0, 0, 0, 1,\n",
              "        1, 0, 0, 1, 1, 0, 0, 0, 0, 0, 0, 0, 0, 0, 0, 0, 0, 0, 0, 0, 0, 0,\n",
              "        0, 0, 0, 0, 0, 0, 0, 0, 0, 0, 0, 0, 0, 0, 0, 0, 0, 0, 0, 0, 0, 0,\n",
              "        0, 0, 0, 0, 0, 0, 0, 0, 0, 0, 0, 0, 0, 0, 0, 0, 0, 0, 0, 0, 0, 0,\n",
              "        1, 1, 0, 0, 1, 1, 0, 0, 0, 0, 0, 0, 0, 0, 0, 0, 0, 0, 0, 1, 1, 0,\n",
              "        0, 0, 0, 0, 0, 0, 0, 0, 0]])"
            ]
          },
          "metadata": {},
          "execution_count": 21
        }
      ]
    }
  ]
}