{
  "nbformat": 4,
  "nbformat_minor": 0,
  "metadata": {
    "colab": {
      "provenance": []
    },
    "kernelspec": {
      "name": "python3",
      "display_name": "Python 3"
    },
    "language_info": {
      "name": "python"
    }
  },
  "cells": [
    {
      "cell_type": "markdown",
      "source": [
        "# \"Bag of Words is a text representation technique in natural language processing where each document is represented as a vector, ignoring word order and considering word frequency. It involves tokenization, vocabulary creation, and vectorization, making it a simple yet effective method for text analysis.\""
      ],
      "metadata": {
        "id": "jmhv6qMNB5dm"
      }
    },
    {
      "cell_type": "code",
      "execution_count": 65,
      "metadata": {
        "colab": {
          "base_uri": "https://localhost:8080/"
        },
        "id": "Qf1llEmI0AlD",
        "outputId": "f4d30ed2-12d0-4f06-8902-038dae1fcd71"
      },
      "outputs": [
        {
          "output_type": "stream",
          "name": "stdout",
          "text": [
            "Requirement already satisfied: nltk in /usr/local/lib/python3.10/dist-packages (3.8.1)\n",
            "Requirement already satisfied: click in /usr/local/lib/python3.10/dist-packages (from nltk) (8.1.7)\n",
            "Requirement already satisfied: joblib in /usr/local/lib/python3.10/dist-packages (from nltk) (1.3.2)\n",
            "Requirement already satisfied: regex>=2021.8.3 in /usr/local/lib/python3.10/dist-packages (from nltk) (2023.12.25)\n",
            "Requirement already satisfied: tqdm in /usr/local/lib/python3.10/dist-packages (from nltk) (4.66.2)\n"
          ]
        },
        {
          "output_type": "stream",
          "name": "stderr",
          "text": [
            "[nltk_data] Downloading package punkt to /root/nltk_data...\n",
            "[nltk_data]   Package punkt is already up-to-date!\n"
          ]
        },
        {
          "output_type": "execute_result",
          "data": {
            "text/plain": [
              "True"
            ]
          },
          "metadata": {},
          "execution_count": 65
        }
      ],
      "source": [
        "!pip install nltk\n",
        "import nltk\n",
        "nltk.download('punkt') ##for tokenization"
      ]
    },
    {
      "cell_type": "code",
      "source": [
        "paragraph = \"\"\"The octopus is a fascinating marine creature known for its intelligence, unique appearance, and remarkable abilities. Belonging to the class Cephalopoda, which also includes squids and cuttlefish, octopuses are highly adaptable and can be found in various ocean environments, from shallow coastal waters to deep-sea regions.\n",
        "Key characteristics of octopuses include their soft, bulbous bodies, large heads, and distinctive arms, usually eight in number. Each arm is lined with suckers that are highly sensitive to touch and taste. Octopuses are known for their exceptional problem-solving abilities, which are attributed to their well-developed nervous system and complex brain.\n",
        "One of the most intriguing features of octopuses is their ability to change color and texture rapidly, allowing them to blend into their surroundings for camouflage or communicate with other octopuses. This camouflaging ability is achieved through specialized pigment cells called chromatophores in their skin.\n",
        "Octopuses are also known for their intelligence, exhibiting advanced problem-solving skills, memory, and the ability to learn through observation. They have been observed using tools, escaping from predators, and even opening jars to access food. Some species of octopuses are also known for their unique behaviors, such as mimicry, where they imitate other marine animals to avoid predators.\n",
        "Reproduction in octopuses is a fascinating process. Males typically use a specialized arm called a hectocotylus to transfer sperm to the female's mantle during mating. After laying a large number of eggs, the female guards and cares for them until they hatch. Interestingly, octopuses are semelparous, meaning they reproduce only once in their lifetime, and females often die shortly after their eggs hatch.\n",
        "Despite their intriguing characteristics, octopuses have relatively short lifespans, ranging from a few months to a couple of years, depending on the species. Their adaptability, intelligence, and unique features make octopuses subjects of great interest in marine biology and have inspired curiosity and awe among scientists and enthusiasts alike.\n",
        "\"\"\""
      ],
      "metadata": {
        "id": "_Pq9ajme0Ra8"
      },
      "execution_count": 66,
      "outputs": []
    },
    {
      "cell_type": "markdown",
      "source": [
        "**Tokenization**"
      ],
      "metadata": {
        "id": "Hdt8HrIJBBQM"
      }
    },
    {
      "cell_type": "code",
      "source": [
        "sentences = nltk.sent_tokenize(paragraph)"
      ],
      "metadata": {
        "id": "US-oXvla28kc"
      },
      "execution_count": 67,
      "outputs": []
    },
    {
      "cell_type": "code",
      "source": [
        "sentences"
      ],
      "metadata": {
        "colab": {
          "base_uri": "https://localhost:8080/"
        },
        "id": "DjaFz6-sBdd9",
        "outputId": "866cb305-a954-48be-c3d5-aa8cfcdc853e"
      },
      "execution_count": 68,
      "outputs": [
        {
          "output_type": "execute_result",
          "data": {
            "text/plain": [
              "['The octopus is a fascinating marine creature known for its intelligence, unique appearance, and remarkable abilities.',\n",
              " 'Belonging to the class Cephalopoda, which also includes squids and cuttlefish, octopuses are highly adaptable and can be found in various ocean environments, from shallow coastal waters to deep-sea regions.',\n",
              " 'Key characteristics of octopuses include their soft, bulbous bodies, large heads, and distinctive arms, usually eight in number.',\n",
              " 'Each arm is lined with suckers that are highly sensitive to touch and taste.',\n",
              " 'Octopuses are known for their exceptional problem-solving abilities, which are attributed to their well-developed nervous system and complex brain.',\n",
              " 'One of the most intriguing features of octopuses is their ability to change color and texture rapidly, allowing them to blend into their surroundings for camouflage or communicate with other octopuses.',\n",
              " 'This camouflaging ability is achieved through specialized pigment cells called chromatophores in their skin.',\n",
              " 'Octopuses are also known for their intelligence, exhibiting advanced problem-solving skills, memory, and the ability to learn through observation.',\n",
              " 'They have been observed using tools, escaping from predators, and even opening jars to access food.',\n",
              " 'Some species of octopuses are also known for their unique behaviors, such as mimicry, where they imitate other marine animals to avoid predators.',\n",
              " 'Reproduction in octopuses is a fascinating process.',\n",
              " \"Males typically use a specialized arm called a hectocotylus to transfer sperm to the female's mantle during mating.\",\n",
              " 'After laying a large number of eggs, the female guards and cares for them until they hatch.',\n",
              " 'Interestingly, octopuses are semelparous, meaning they reproduce only once in their lifetime, and females often die shortly after their eggs hatch.',\n",
              " 'Despite their intriguing characteristics, octopuses have relatively short lifespans, ranging from a few months to a couple of years, depending on the species.',\n",
              " 'Their adaptability, intelligence, and unique features make octopuses subjects of great interest in marine biology and have inspired curiosity and awe among scientists and enthusiasts alike.']"
            ]
          },
          "metadata": {},
          "execution_count": 68
        }
      ]
    },
    {
      "cell_type": "markdown",
      "source": [
        "**Stopwords and then Lemmatization**"
      ],
      "metadata": {
        "id": "rpCiNXuDBFOM"
      }
    },
    {
      "cell_type": "code",
      "source": [
        "from nltk.stem import WordNetLemmatizer\n",
        "from nltk.corpus import stopwords\n",
        "nltk.download('stopwords') ##for stopwords\n",
        "nltk.download('wordnet')"
      ],
      "metadata": {
        "colab": {
          "base_uri": "https://localhost:8080/"
        },
        "id": "F1tPT-85Aj3c",
        "outputId": "218ff2d7-43a9-4c30-b5c0-bd7f378943ee"
      },
      "execution_count": 69,
      "outputs": [
        {
          "output_type": "stream",
          "name": "stderr",
          "text": [
            "[nltk_data] Downloading package stopwords to /root/nltk_data...\n",
            "[nltk_data]   Package stopwords is already up-to-date!\n",
            "[nltk_data] Downloading package wordnet to /root/nltk_data...\n",
            "[nltk_data]   Package wordnet is already up-to-date!\n"
          ]
        },
        {
          "output_type": "execute_result",
          "data": {
            "text/plain": [
              "True"
            ]
          },
          "metadata": {},
          "execution_count": 69
        }
      ]
    },
    {
      "cell_type": "code",
      "source": [
        "lemma = WordNetLemmatizer()"
      ],
      "metadata": {
        "id": "cq7ICuIuAac1"
      },
      "execution_count": 70,
      "outputs": []
    },
    {
      "cell_type": "code",
      "source": [
        "for i in range (len(sentences)):\n",
        "  words = nltk.word_tokenize(sentences[i])\n",
        "  words = [lemma.lemmatize(word.lower(),pos='v') for word in words if word not in set(stopwords.words('english'))]\n",
        "  sentences[i] = ' '.join(words)"
      ],
      "metadata": {
        "id": "EX5PlUXfAR7G"
      },
      "execution_count": 71,
      "outputs": []
    },
    {
      "cell_type": "code",
      "source": [
        "sentences"
      ],
      "metadata": {
        "colab": {
          "base_uri": "https://localhost:8080/"
        },
        "id": "k88IMlnpA5TF",
        "outputId": "07bb345e-5446-424a-db68-4d7e29163b7e"
      },
      "execution_count": 72,
      "outputs": [
        {
          "output_type": "execute_result",
          "data": {
            "text/plain": [
              "['the octopus fascinate marine creature know intelligence , unique appearance , remarkable abilities .',\n",
              " 'belong class cephalopoda , also include squids cuttlefish , octopuses highly adaptable find various ocean environments , shallow coastal water deep-sea regions .',\n",
              " 'key characteristics octopuses include soft , bulbous body , large head , distinctive arm , usually eight number .',\n",
              " 'each arm line suckers highly sensitive touch taste .',\n",
              " 'octopuses know exceptional problem-solving abilities , attribute well-developed nervous system complex brain .',\n",
              " 'one intrigue feature octopuses ability change color texture rapidly , allow blend surround camouflage communicate octopuses .',\n",
              " 'this camouflage ability achieve specialize pigment cells call chromatophores skin .',\n",
              " 'octopuses also know intelligence , exhibit advance problem-solving skills , memory , ability learn observation .',\n",
              " 'they observe use tool , escape predators , even open jar access food .',\n",
              " 'some species octopuses also know unique behaviors , mimicry , imitate marine animals avoid predators .',\n",
              " 'reproduction octopuses fascinate process .',\n",
              " \"males typically use specialize arm call hectocotylus transfer sperm female 's mantle mat .\",\n",
              " 'after lay large number egg , female guard care hatch .',\n",
              " 'interestingly , octopuses semelparous , mean reproduce lifetime , females often die shortly egg hatch .',\n",
              " 'despite intrigue characteristics , octopuses relatively short lifespans , range months couple years , depend species .',\n",
              " 'their adaptability , intelligence , unique feature make octopuses subject great interest marine biology inspire curiosity awe among scientists enthusiasts alike .']"
            ]
          },
          "metadata": {},
          "execution_count": 72
        }
      ]
    },
    {
      "cell_type": "code",
      "source": [
        "##Before this we can also use lemmatization\n",
        "from sklearn.feature_extraction.text import CountVectorizer\n",
        "cv = CountVectorizer()"
      ],
      "metadata": {
        "id": "5H5kQqu421mc"
      },
      "execution_count": 73,
      "outputs": []
    },
    {
      "cell_type": "code",
      "source": [
        "##VEctorization\n",
        "X = cv.fit_transform(sentences)"
      ],
      "metadata": {
        "id": "ww0Za5ud27cF"
      },
      "execution_count": 74,
      "outputs": []
    },
    {
      "cell_type": "code",
      "source": [
        "print(cv.get_feature_names_out())"
      ],
      "metadata": {
        "colab": {
          "base_uri": "https://localhost:8080/"
        },
        "id": "awuLWhIC8dFk",
        "outputId": "344a58bc-fba5-4631-e526-6c4ee1645eae"
      },
      "execution_count": 75,
      "outputs": [
        {
          "output_type": "stream",
          "name": "stdout",
          "text": [
            "['abilities' 'ability' 'access' 'achieve' 'adaptability' 'adaptable'\n",
            " 'advance' 'after' 'alike' 'allow' 'also' 'among' 'animals' 'appearance'\n",
            " 'arm' 'attribute' 'avoid' 'awe' 'behaviors' 'belong' 'biology' 'blend'\n",
            " 'body' 'brain' 'bulbous' 'call' 'camouflage' 'care' 'cells' 'cephalopoda'\n",
            " 'change' 'characteristics' 'chromatophores' 'class' 'coastal' 'color'\n",
            " 'communicate' 'complex' 'couple' 'creature' 'curiosity' 'cuttlefish'\n",
            " 'deep' 'depend' 'despite' 'developed' 'die' 'distinctive' 'each' 'egg'\n",
            " 'eight' 'enthusiasts' 'environments' 'escape' 'even' 'exceptional'\n",
            " 'exhibit' 'fascinate' 'feature' 'female' 'females' 'find' 'food' 'great'\n",
            " 'guard' 'hatch' 'head' 'hectocotylus' 'highly' 'imitate' 'include'\n",
            " 'inspire' 'intelligence' 'interest' 'interestingly' 'intrigue' 'jar'\n",
            " 'key' 'know' 'large' 'lay' 'learn' 'lifespans' 'lifetime' 'line' 'make'\n",
            " 'males' 'mantle' 'marine' 'mat' 'mean' 'memory' 'mimicry' 'months'\n",
            " 'nervous' 'number' 'observation' 'observe' 'ocean' 'octopus' 'octopuses'\n",
            " 'often' 'one' 'open' 'pigment' 'predators' 'problem' 'process' 'range'\n",
            " 'rapidly' 'regions' 'relatively' 'remarkable' 'reproduce' 'reproduction'\n",
            " 'scientists' 'sea' 'semelparous' 'sensitive' 'shallow' 'short' 'shortly'\n",
            " 'skills' 'skin' 'soft' 'solving' 'some' 'specialize' 'species' 'sperm'\n",
            " 'squids' 'subject' 'suckers' 'surround' 'system' 'taste' 'texture' 'the'\n",
            " 'their' 'they' 'this' 'tool' 'touch' 'transfer' 'typically' 'unique'\n",
            " 'use' 'usually' 'various' 'water' 'well' 'years']\n"
          ]
        }
      ]
    },
    {
      "cell_type": "code",
      "source": [
        "cv.vocabulary_"
      ],
      "metadata": {
        "colab": {
          "base_uri": "https://localhost:8080/"
        },
        "id": "mLkqPfUS39Ls",
        "outputId": "3cbe2522-65a6-4d30-df26-fb771f12c1ce"
      },
      "execution_count": 76,
      "outputs": [
        {
          "output_type": "execute_result",
          "data": {
            "text/plain": [
              "{'the': 137,\n",
              " 'octopus': 99,\n",
              " 'fascinate': 57,\n",
              " 'marine': 88,\n",
              " 'creature': 39,\n",
              " 'know': 78,\n",
              " 'intelligence': 72,\n",
              " 'unique': 145,\n",
              " 'appearance': 13,\n",
              " 'remarkable': 112,\n",
              " 'abilities': 0,\n",
              " 'belong': 19,\n",
              " 'class': 33,\n",
              " 'cephalopoda': 29,\n",
              " 'also': 10,\n",
              " 'include': 70,\n",
              " 'squids': 130,\n",
              " 'cuttlefish': 41,\n",
              " 'octopuses': 100,\n",
              " 'highly': 68,\n",
              " 'adaptable': 5,\n",
              " 'find': 61,\n",
              " 'various': 148,\n",
              " 'ocean': 98,\n",
              " 'environments': 52,\n",
              " 'shallow': 119,\n",
              " 'coastal': 34,\n",
              " 'water': 149,\n",
              " 'deep': 42,\n",
              " 'sea': 116,\n",
              " 'regions': 110,\n",
              " 'key': 77,\n",
              " 'characteristics': 31,\n",
              " 'soft': 124,\n",
              " 'bulbous': 24,\n",
              " 'body': 22,\n",
              " 'large': 79,\n",
              " 'head': 66,\n",
              " 'distinctive': 47,\n",
              " 'arm': 14,\n",
              " 'usually': 147,\n",
              " 'eight': 50,\n",
              " 'number': 95,\n",
              " 'each': 48,\n",
              " 'line': 84,\n",
              " 'suckers': 132,\n",
              " 'sensitive': 118,\n",
              " 'touch': 142,\n",
              " 'taste': 135,\n",
              " 'exceptional': 55,\n",
              " 'problem': 106,\n",
              " 'solving': 125,\n",
              " 'attribute': 15,\n",
              " 'well': 150,\n",
              " 'developed': 45,\n",
              " 'nervous': 94,\n",
              " 'system': 134,\n",
              " 'complex': 37,\n",
              " 'brain': 23,\n",
              " 'one': 102,\n",
              " 'intrigue': 75,\n",
              " 'feature': 58,\n",
              " 'ability': 1,\n",
              " 'change': 30,\n",
              " 'color': 35,\n",
              " 'texture': 136,\n",
              " 'rapidly': 109,\n",
              " 'allow': 9,\n",
              " 'blend': 21,\n",
              " 'surround': 133,\n",
              " 'camouflage': 26,\n",
              " 'communicate': 36,\n",
              " 'this': 140,\n",
              " 'achieve': 3,\n",
              " 'specialize': 127,\n",
              " 'pigment': 104,\n",
              " 'cells': 28,\n",
              " 'call': 25,\n",
              " 'chromatophores': 32,\n",
              " 'skin': 123,\n",
              " 'exhibit': 56,\n",
              " 'advance': 6,\n",
              " 'skills': 122,\n",
              " 'memory': 91,\n",
              " 'learn': 81,\n",
              " 'observation': 96,\n",
              " 'they': 139,\n",
              " 'observe': 97,\n",
              " 'use': 146,\n",
              " 'tool': 141,\n",
              " 'escape': 53,\n",
              " 'predators': 105,\n",
              " 'even': 54,\n",
              " 'open': 103,\n",
              " 'jar': 76,\n",
              " 'access': 2,\n",
              " 'food': 62,\n",
              " 'some': 126,\n",
              " 'species': 128,\n",
              " 'behaviors': 18,\n",
              " 'mimicry': 92,\n",
              " 'imitate': 69,\n",
              " 'animals': 12,\n",
              " 'avoid': 16,\n",
              " 'reproduction': 114,\n",
              " 'process': 107,\n",
              " 'males': 86,\n",
              " 'typically': 144,\n",
              " 'hectocotylus': 67,\n",
              " 'transfer': 143,\n",
              " 'sperm': 129,\n",
              " 'female': 59,\n",
              " 'mantle': 87,\n",
              " 'mat': 89,\n",
              " 'after': 7,\n",
              " 'lay': 80,\n",
              " 'egg': 49,\n",
              " 'guard': 64,\n",
              " 'care': 27,\n",
              " 'hatch': 65,\n",
              " 'interestingly': 74,\n",
              " 'semelparous': 117,\n",
              " 'mean': 90,\n",
              " 'reproduce': 113,\n",
              " 'lifetime': 83,\n",
              " 'females': 60,\n",
              " 'often': 101,\n",
              " 'die': 46,\n",
              " 'shortly': 121,\n",
              " 'despite': 44,\n",
              " 'relatively': 111,\n",
              " 'short': 120,\n",
              " 'lifespans': 82,\n",
              " 'range': 108,\n",
              " 'months': 93,\n",
              " 'couple': 38,\n",
              " 'years': 151,\n",
              " 'depend': 43,\n",
              " 'their': 138,\n",
              " 'adaptability': 4,\n",
              " 'make': 85,\n",
              " 'subject': 131,\n",
              " 'great': 63,\n",
              " 'interest': 73,\n",
              " 'biology': 20,\n",
              " 'inspire': 71,\n",
              " 'curiosity': 40,\n",
              " 'awe': 17,\n",
              " 'among': 11,\n",
              " 'scientists': 115,\n",
              " 'enthusiasts': 51,\n",
              " 'alike': 8}"
            ]
          },
          "metadata": {},
          "execution_count": 76
        }
      ]
    },
    {
      "cell_type": "code",
      "source": [
        "print(sentences[8])"
      ],
      "metadata": {
        "colab": {
          "base_uri": "https://localhost:8080/"
        },
        "id": "YQ6QEQkI4KWl",
        "outputId": "7894c1f1-6447-48a4-c788-94cccdb98a74"
      },
      "execution_count": 79,
      "outputs": [
        {
          "output_type": "stream",
          "name": "stdout",
          "text": [
            "they observe use tool , escape predators , even open jar access food .\n"
          ]
        }
      ]
    },
    {
      "cell_type": "code",
      "source": [
        "X[8].toarray()"
      ],
      "metadata": {
        "colab": {
          "base_uri": "https://localhost:8080/"
        },
        "id": "P-ygrXf54YD9",
        "outputId": "e3b84ebc-75ff-4cf1-f23f-bfaa489dba92"
      },
      "execution_count": 80,
      "outputs": [
        {
          "output_type": "execute_result",
          "data": {
            "text/plain": [
              "array([[0, 0, 1, 0, 0, 0, 0, 0, 0, 0, 0, 0, 0, 0, 0, 0, 0, 0, 0, 0, 0, 0,\n",
              "        0, 0, 0, 0, 0, 0, 0, 0, 0, 0, 0, 0, 0, 0, 0, 0, 0, 0, 0, 0, 0, 0,\n",
              "        0, 0, 0, 0, 0, 0, 0, 0, 0, 1, 1, 0, 0, 0, 0, 0, 0, 0, 1, 0, 0, 0,\n",
              "        0, 0, 0, 0, 0, 0, 0, 0, 0, 0, 1, 0, 0, 0, 0, 0, 0, 0, 0, 0, 0, 0,\n",
              "        0, 0, 0, 0, 0, 0, 0, 0, 0, 1, 0, 0, 0, 0, 0, 1, 0, 1, 0, 0, 0, 0,\n",
              "        0, 0, 0, 0, 0, 0, 0, 0, 0, 0, 0, 0, 0, 0, 0, 0, 0, 0, 0, 0, 0, 0,\n",
              "        0, 0, 0, 0, 0, 0, 0, 1, 0, 1, 0, 0, 0, 0, 1, 0, 0, 0, 0, 0]])"
            ]
          },
          "metadata": {},
          "execution_count": 80
        }
      ]
    }
  ]
}