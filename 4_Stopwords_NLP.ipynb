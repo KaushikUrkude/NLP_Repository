{
  "nbformat": 4,
  "nbformat_minor": 0,
  "metadata": {
    "colab": {
      "provenance": []
    },
    "kernelspec": {
      "name": "python3",
      "display_name": "Python 3"
    },
    "language_info": {
      "name": "python"
    }
  },
  "cells": [
    {
      "cell_type": "code",
      "execution_count": 97,
      "metadata": {
        "colab": {
          "base_uri": "https://localhost:8080/"
        },
        "id": "dBhPM9ceNWA4",
        "outputId": "33da58c6-2e88-4e29-bd09-1a1b28870cec"
      },
      "outputs": [
        {
          "output_type": "stream",
          "name": "stdout",
          "text": [
            "Requirement already satisfied: nltk in /usr/local/lib/python3.10/dist-packages (3.8.1)\n",
            "Requirement already satisfied: click in /usr/local/lib/python3.10/dist-packages (from nltk) (8.1.7)\n",
            "Requirement already satisfied: joblib in /usr/local/lib/python3.10/dist-packages (from nltk) (1.3.2)\n",
            "Requirement already satisfied: regex>=2021.8.3 in /usr/local/lib/python3.10/dist-packages (from nltk) (2023.12.25)\n",
            "Requirement already satisfied: tqdm in /usr/local/lib/python3.10/dist-packages (from nltk) (4.66.2)\n"
          ]
        },
        {
          "output_type": "stream",
          "name": "stderr",
          "text": [
            "[nltk_data] Downloading package punkt to /root/nltk_data...\n",
            "[nltk_data]   Package punkt is already up-to-date!\n",
            "[nltk_data] Downloading package wordnet to /root/nltk_data...\n",
            "[nltk_data]   Package wordnet is already up-to-date!\n"
          ]
        },
        {
          "output_type": "execute_result",
          "data": {
            "text/plain": [
              "True"
            ]
          },
          "metadata": {},
          "execution_count": 97
        }
      ],
      "source": [
        "!pip install nltk\n",
        "import nltk\n",
        "nltk.download('punkt')\n",
        "nltk.download('wordnet')"
      ]
    },
    {
      "cell_type": "code",
      "source": [
        "Paragraph = \"\"\"The octopus is a fascinating marine creature known for its intelligence, unique appearance, and remarkable abilities. Belonging to the class Cephalopoda, which also includes squids and cuttlefish, octopuses are highly adaptable and can be found in various ocean environments, from shallow coastal waters to deep-sea regions.\n",
        "Key characteristics of octopuses include their soft, bulbous bodies, large heads, and distinctive arms, usually eight in number. Each arm is lined with suckers that are highly sensitive to touch and taste. Octopuses are known for their exceptional problem-solving abilities, which are attributed to their well-developed nervous system and complex brain.\n",
        "One of the most intriguing features of octopuses is their ability to change color and texture rapidly, allowing them to blend into their surroundings for camouflage or communicate with other octopuses. This camouflaging ability is achieved through specialized pigment cells called chromatophores in their skin.\n",
        "Octopuses are also known for their intelligence, exhibiting advanced problem-solving skills, memory, and the ability to learn through observation. They have been observed using tools, escaping from predators, and even opening jars to access food. Some species of octopuses are also known for their unique behaviors, such as mimicry, where they imitate other marine animals to avoid predators.\n",
        "Reproduction in octopuses is a fascinating process. Males typically use a specialized arm called a hectocotylus to transfer sperm to the female's mantle during mating. After laying a large number of eggs, the female guards and cares for them until they hatch. Interestingly, octopuses are semelparous, meaning they reproduce only once in their lifetime, and females often die shortly after their eggs hatch.\n",
        "Despite their intriguing characteristics, octopuses have relatively short lifespans, ranging from a few months to a couple of years, depending on the species. Their adaptability, intelligence, and unique features make octopuses subjects of great interest in marine biology and have inspired curiosity and awe among scientists and enthusiasts alike.\n",
        "\"\"\""
      ],
      "metadata": {
        "id": "H7Cv5SPCN-T8"
      },
      "execution_count": 98,
      "outputs": []
    },
    {
      "cell_type": "code",
      "source": [
        "from nltk.stem import PorterStemmer"
      ],
      "metadata": {
        "id": "yCfpUvCaOGbk"
      },
      "execution_count": 99,
      "outputs": []
    },
    {
      "cell_type": "code",
      "source": [
        "from nltk.corpus import stopwords\n",
        "nltk.download('stopwords')"
      ],
      "metadata": {
        "colab": {
          "base_uri": "https://localhost:8080/"
        },
        "id": "fSKKDeKxOznw",
        "outputId": "e9ff397a-bd4e-476d-b385-153baf3af9a5"
      },
      "execution_count": 100,
      "outputs": [
        {
          "output_type": "stream",
          "name": "stderr",
          "text": [
            "[nltk_data] Downloading package stopwords to /root/nltk_data...\n",
            "[nltk_data]   Package stopwords is already up-to-date!\n"
          ]
        },
        {
          "output_type": "execute_result",
          "data": {
            "text/plain": [
              "True"
            ]
          },
          "metadata": {},
          "execution_count": 100
        }
      ]
    },
    {
      "cell_type": "code",
      "source": [
        "##we can use our own stopwords"
      ],
      "metadata": {
        "id": "hZobXOmSPbc0"
      },
      "execution_count": 101,
      "outputs": []
    },
    {
      "cell_type": "code",
      "source": [
        "stopwords.words('english') ##refer nltk documents for more languages"
      ],
      "metadata": {
        "colab": {
          "base_uri": "https://localhost:8080/"
        },
        "id": "_oMK3aKDO-Ir",
        "outputId": "b4abb57c-2e32-467e-fd1f-b9037e940166"
      },
      "execution_count": 102,
      "outputs": [
        {
          "output_type": "execute_result",
          "data": {
            "text/plain": [
              "['i',\n",
              " 'me',\n",
              " 'my',\n",
              " 'myself',\n",
              " 'we',\n",
              " 'our',\n",
              " 'ours',\n",
              " 'ourselves',\n",
              " 'you',\n",
              " \"you're\",\n",
              " \"you've\",\n",
              " \"you'll\",\n",
              " \"you'd\",\n",
              " 'your',\n",
              " 'yours',\n",
              " 'yourself',\n",
              " 'yourselves',\n",
              " 'he',\n",
              " 'him',\n",
              " 'his',\n",
              " 'himself',\n",
              " 'she',\n",
              " \"she's\",\n",
              " 'her',\n",
              " 'hers',\n",
              " 'herself',\n",
              " 'it',\n",
              " \"it's\",\n",
              " 'its',\n",
              " 'itself',\n",
              " 'they',\n",
              " 'them',\n",
              " 'their',\n",
              " 'theirs',\n",
              " 'themselves',\n",
              " 'what',\n",
              " 'which',\n",
              " 'who',\n",
              " 'whom',\n",
              " 'this',\n",
              " 'that',\n",
              " \"that'll\",\n",
              " 'these',\n",
              " 'those',\n",
              " 'am',\n",
              " 'is',\n",
              " 'are',\n",
              " 'was',\n",
              " 'were',\n",
              " 'be',\n",
              " 'been',\n",
              " 'being',\n",
              " 'have',\n",
              " 'has',\n",
              " 'had',\n",
              " 'having',\n",
              " 'do',\n",
              " 'does',\n",
              " 'did',\n",
              " 'doing',\n",
              " 'a',\n",
              " 'an',\n",
              " 'the',\n",
              " 'and',\n",
              " 'but',\n",
              " 'if',\n",
              " 'or',\n",
              " 'because',\n",
              " 'as',\n",
              " 'until',\n",
              " 'while',\n",
              " 'of',\n",
              " 'at',\n",
              " 'by',\n",
              " 'for',\n",
              " 'with',\n",
              " 'about',\n",
              " 'against',\n",
              " 'between',\n",
              " 'into',\n",
              " 'through',\n",
              " 'during',\n",
              " 'before',\n",
              " 'after',\n",
              " 'above',\n",
              " 'below',\n",
              " 'to',\n",
              " 'from',\n",
              " 'up',\n",
              " 'down',\n",
              " 'in',\n",
              " 'out',\n",
              " 'on',\n",
              " 'off',\n",
              " 'over',\n",
              " 'under',\n",
              " 'again',\n",
              " 'further',\n",
              " 'then',\n",
              " 'once',\n",
              " 'here',\n",
              " 'there',\n",
              " 'when',\n",
              " 'where',\n",
              " 'why',\n",
              " 'how',\n",
              " 'all',\n",
              " 'any',\n",
              " 'both',\n",
              " 'each',\n",
              " 'few',\n",
              " 'more',\n",
              " 'most',\n",
              " 'other',\n",
              " 'some',\n",
              " 'such',\n",
              " 'no',\n",
              " 'nor',\n",
              " 'not',\n",
              " 'only',\n",
              " 'own',\n",
              " 'same',\n",
              " 'so',\n",
              " 'than',\n",
              " 'too',\n",
              " 'very',\n",
              " 's',\n",
              " 't',\n",
              " 'can',\n",
              " 'will',\n",
              " 'just',\n",
              " 'don',\n",
              " \"don't\",\n",
              " 'should',\n",
              " \"should've\",\n",
              " 'now',\n",
              " 'd',\n",
              " 'll',\n",
              " 'm',\n",
              " 'o',\n",
              " 're',\n",
              " 've',\n",
              " 'y',\n",
              " 'ain',\n",
              " 'aren',\n",
              " \"aren't\",\n",
              " 'couldn',\n",
              " \"couldn't\",\n",
              " 'didn',\n",
              " \"didn't\",\n",
              " 'doesn',\n",
              " \"doesn't\",\n",
              " 'hadn',\n",
              " \"hadn't\",\n",
              " 'hasn',\n",
              " \"hasn't\",\n",
              " 'haven',\n",
              " \"haven't\",\n",
              " 'isn',\n",
              " \"isn't\",\n",
              " 'ma',\n",
              " 'mightn',\n",
              " \"mightn't\",\n",
              " 'mustn',\n",
              " \"mustn't\",\n",
              " 'needn',\n",
              " \"needn't\",\n",
              " 'shan',\n",
              " \"shan't\",\n",
              " 'shouldn',\n",
              " \"shouldn't\",\n",
              " 'wasn',\n",
              " \"wasn't\",\n",
              " 'weren',\n",
              " \"weren't\",\n",
              " 'won',\n",
              " \"won't\",\n",
              " 'wouldn',\n",
              " \"wouldn't\"]"
            ]
          },
          "metadata": {},
          "execution_count": 102
        }
      ]
    },
    {
      "cell_type": "code",
      "source": [
        "from nltk.stem import PorterStemmer"
      ],
      "metadata": {
        "id": "vlaHOi2gPxUC"
      },
      "execution_count": 103,
      "outputs": []
    },
    {
      "cell_type": "code",
      "source": [
        "stemmer = PorterStemmer()"
      ],
      "metadata": {
        "id": "DElZZ--SP0u9"
      },
      "execution_count": 104,
      "outputs": []
    },
    {
      "cell_type": "code",
      "source": [
        "sentences = nltk.sent_tokenize(Paragraph)"
      ],
      "metadata": {
        "id": "WU229dUQP3hL"
      },
      "execution_count": 105,
      "outputs": []
    },
    {
      "cell_type": "code",
      "source": [
        "type(sentences)"
      ],
      "metadata": {
        "colab": {
          "base_uri": "https://localhost:8080/"
        },
        "id": "KJJEF-SyQUfM",
        "outputId": "e05d0a78-f731-4ed1-fa89-963612889a7d"
      },
      "execution_count": 106,
      "outputs": [
        {
          "output_type": "execute_result",
          "data": {
            "text/plain": [
              "list"
            ]
          },
          "metadata": {},
          "execution_count": 106
        }
      ]
    },
    {
      "cell_type": "code",
      "source": [
        "##Apply stopwords and then apply stemming/lemmatization\n",
        "\n",
        "for i in range (len(sentences)):\n",
        "  words = nltk.word_tokenize(sentences[i])\n",
        "  words = [stemmer.stem(word) for word in words if word not in set(stopwords.words('english'))]\n",
        "  sentences[i] = ' '.join(words)"
      ],
      "metadata": {
        "id": "c1qN6ONqQXGj"
      },
      "execution_count": 107,
      "outputs": []
    },
    {
      "cell_type": "code",
      "source": [
        "sentences"
      ],
      "metadata": {
        "colab": {
          "base_uri": "https://localhost:8080/"
        },
        "id": "FaJw5iKGRZxT",
        "outputId": "95a880fb-3aad-4189-b204-f6972cedcc22"
      },
      "execution_count": 108,
      "outputs": [
        {
          "output_type": "execute_result",
          "data": {
            "text/plain": [
              "['the octopu fascin marin creatur known intellig , uniqu appear , remark abil .',\n",
              " 'belong class cephalopoda , also includ squid cuttlefish , octopus highli adapt found variou ocean environ , shallow coastal water deep-sea region .',\n",
              " 'key characterist octopus includ soft , bulbou bodi , larg head , distinct arm , usual eight number .',\n",
              " 'each arm line sucker highli sensit touch tast .',\n",
              " 'octopus known except problem-solv abil , attribut well-develop nervou system complex brain .',\n",
              " 'one intrigu featur octopus abil chang color textur rapidli , allow blend surround camouflag commun octopus .',\n",
              " 'thi camouflag abil achiev special pigment cell call chromatophor skin .',\n",
              " 'octopus also known intellig , exhibit advanc problem-solv skill , memori , abil learn observ .',\n",
              " 'they observ use tool , escap predat , even open jar access food .',\n",
              " 'some speci octopus also known uniqu behavior , mimicri , imit marin anim avoid predat .',\n",
              " 'reproduct octopus fascin process .',\n",
              " \"male typic use special arm call hectocotylu transfer sperm femal 's mantl mate .\",\n",
              " 'after lay larg number egg , femal guard care hatch .',\n",
              " 'interestingli , octopus semelpar , mean reproduc lifetim , femal often die shortli egg hatch .',\n",
              " 'despit intrigu characterist , octopus rel short lifespan , rang month coupl year , depend speci .',\n",
              " 'their adapt , intellig , uniqu featur make octopus subject great interest marin biolog inspir curios awe among scientist enthusiast alik .']"
            ]
          },
          "metadata": {},
          "execution_count": 108
        }
      ]
    },
    {
      "cell_type": "markdown",
      "source": [
        "**Using Snowball Stemmer** ----This makes all letter small"
      ],
      "metadata": {
        "id": "ilSyJ4tORl6j"
      }
    },
    {
      "cell_type": "code",
      "source": [
        "Paragraph = \"\"\"The octopus is a fascinating marine creature known for its intelligence, unique appearance, and remarkable abilities. Belonging to the class Cephalopoda, which also includes squids and cuttlefish, octopuses are highly adaptable and can be found in various ocean environments, from shallow coastal waters to deep-sea regions.\n",
        "Key characteristics of octopuses include their soft, bulbous bodies, large heads, and distinctive arms, usually eight in number. Each arm is lined with suckers that are highly sensitive to touch and taste. Octopuses are known for their exceptional problem-solving abilities, which are attributed to their well-developed nervous system and complex brain.\n",
        "One of the most intriguing features of octopuses is their ability to change color and texture rapidly, allowing them to blend into their surroundings for camouflage or communicate with other octopuses. This camouflaging ability is achieved through specialized pigment cells called chromatophores in their skin.\n",
        "Octopuses are also known for their intelligence, exhibiting advanced problem-solving skills, memory, and the ability to learn through observation. They have been observed using tools, escaping from predators, and even opening jars to access food. Some species of octopuses are also known for their unique behaviors, such as mimicry, where they imitate other marine animals to avoid predators.\n",
        "Reproduction in octopuses is a fascinating process. Males typically use a specialized arm called a hectocotylus to transfer sperm to the female's mantle during mating. After laying a large number of eggs, the female guards and cares for them until they hatch. Interestingly, octopuses are semelparous, meaning they reproduce only once in their lifetime, and females often die shortly after their eggs hatch.\n",
        "Despite their intriguing characteristics, octopuses have relatively short lifespans, ranging from a few months to a couple of years, depending on the species. Their adaptability, intelligence, and unique features make octopuses subjects of great interest in marine biology and have inspired curiosity and awe among scientists and enthusiasts alike.\n",
        "\"\"\""
      ],
      "metadata": {
        "id": "LuxeEP45R5ZD"
      },
      "execution_count": 109,
      "outputs": []
    },
    {
      "cell_type": "code",
      "source": [
        "from nltk.stem import SnowballStemmer"
      ],
      "metadata": {
        "id": "6qyNSCsyRupb"
      },
      "execution_count": 110,
      "outputs": []
    },
    {
      "cell_type": "code",
      "source": [
        "ss_stem = SnowballStemmer('english')"
      ],
      "metadata": {
        "id": "gTc5BMGoRyN7"
      },
      "execution_count": 111,
      "outputs": []
    },
    {
      "cell_type": "code",
      "source": [
        "sentences = nltk.sent_tokenize(Paragraph)"
      ],
      "metadata": {
        "id": "_htHwK_IT4Ps"
      },
      "execution_count": 112,
      "outputs": []
    },
    {
      "cell_type": "code",
      "source": [
        "for i in range (len(sentences)):\n",
        "  words = nltk.word_tokenize(sentences[i])\n",
        "  words = [ss_stem.stem(word) for word in words if word not in set(stopwords.words('english'))]\n",
        "  sentences[i] = ' '.join(words)"
      ],
      "metadata": {
        "id": "QKIbZPIgRtBr"
      },
      "execution_count": 113,
      "outputs": []
    },
    {
      "cell_type": "code",
      "source": [
        "sentences"
      ],
      "metadata": {
        "colab": {
          "base_uri": "https://localhost:8080/"
        },
        "id": "ZLPRM6L-SJ-L",
        "outputId": "01535cd3-0357-4ee7-9811-332c5b3dd919"
      },
      "execution_count": 114,
      "outputs": [
        {
          "output_type": "execute_result",
          "data": {
            "text/plain": [
              "['the octopus fascin marin creatur known intellig , uniqu appear , remark abil .',\n",
              " 'belong class cephalopoda , also includ squid cuttlefish , octopus high adapt found various ocean environ , shallow coastal water deep-sea region .',\n",
              " 'key characterist octopus includ soft , bulbous bodi , larg head , distinct arm , usual eight number .',\n",
              " 'each arm line sucker high sensit touch tast .',\n",
              " 'octopus known except problem-solv abil , attribut well-develop nervous system complex brain .',\n",
              " 'one intrigu featur octopus abil chang color textur rapid , allow blend surround camouflag communic octopus .',\n",
              " 'this camouflag abil achiev special pigment cell call chromatophor skin .',\n",
              " 'octopus also known intellig , exhibit advanc problem-solv skill , memori , abil learn observ .',\n",
              " 'they observ use tool , escap predat , even open jar access food .',\n",
              " 'some speci octopus also known uniqu behavior , mimicri , imit marin anim avoid predat .',\n",
              " 'reproduct octopus fascin process .',\n",
              " \"male typic use special arm call hectocotylus transfer sperm femal 's mantl mate .\",\n",
              " 'after lay larg number egg , femal guard care hatch .',\n",
              " 'interest , octopus semelpar , mean reproduc lifetim , femal often die short egg hatch .',\n",
              " 'despit intrigu characterist , octopus relat short lifespan , rang month coupl year , depend speci .',\n",
              " 'their adapt , intellig , uniqu featur make octopus subject great interest marin biolog inspir curios awe among scientist enthusiast alik .']"
            ]
          },
          "metadata": {},
          "execution_count": 114
        }
      ]
    },
    {
      "cell_type": "markdown",
      "source": [
        "using lemmatization"
      ],
      "metadata": {
        "id": "bcrTCzFdSP4P"
      }
    },
    {
      "cell_type": "code",
      "source": [
        "Para = \"\"\"The octopus is a fascinating marine creature known for its intelligence, unique appearance, and remarkable abilities. Belonging to the class Cephalopoda, which also includes squids and cuttlefish, octopuses are highly adaptable and can be found in various ocean environments, from shallow coastal waters to deep-sea regions.\n",
        "Key characteristics of octopuses include their soft, bulbous bodies, large heads, and distinctive arms, usually eight in number. Each arm is lined with suckers that are highly sensitive to touch and taste. Octopuses are known for their exceptional problem-solving abilities, which are attributed to their well-developed nervous system and complex brain.\n",
        "One of the most intriguing features of octopuses is their ability to change color and texture rapidly, allowing them to blend into their surroundings for camouflage or communicate with other octopuses. This camouflaging ability is achieved through specialized pigment cells called chromatophores in their skin.\n",
        "Octopuses are also known for their intelligence, exhibiting advanced problem-solving skills, memory, and the ability to learn through observation. They have been observed using tools, escaping from predators, and even opening jars to access food. Some species of octopuses are also known for their unique behaviors, such as mimicry, where they imitate other marine animals to avoid predators.\n",
        "Reproduction in octopuses is a fascinating process. Males typically use a specialized arm called a hectocotylus to transfer sperm to the female's mantle during mating. After laying a large number of eggs, the female guards and cares for them until they hatch. Interestingly, octopuses are semelparous, meaning they reproduce only once in their lifetime, and females often die shortly after their eggs hatch.\n",
        "Despite their intriguing characteristics, octopuses have relatively short lifespans, ranging from a few months to a couple of years, depending on the species. Their adaptability, intelligence, and unique features make octopuses subjects of great interest in marine biology and have inspired curiosity and awe among scientists and enthusiasts alike.\n",
        "\"\"\""
      ],
      "metadata": {
        "id": "CnTMWw71Sfu0"
      },
      "execution_count": 115,
      "outputs": []
    },
    {
      "cell_type": "code",
      "source": [
        "from nltk.stem import WordNetLemmatizer"
      ],
      "metadata": {
        "id": "G0xpUo5zSu5D"
      },
      "execution_count": 116,
      "outputs": []
    },
    {
      "cell_type": "code",
      "source": [
        "lemma = WordNetLemmatizer()"
      ],
      "metadata": {
        "id": "eTuv1WeeS1d7"
      },
      "execution_count": 117,
      "outputs": []
    },
    {
      "cell_type": "code",
      "source": [
        "sentences = nltk.sent_tokenize(Paragraph)"
      ],
      "metadata": {
        "id": "j2fXi1F1T5Xj"
      },
      "execution_count": 118,
      "outputs": []
    },
    {
      "cell_type": "code",
      "source": [
        "##lower the sentences"
      ],
      "metadata": {
        "id": "a3C3qDHoUNB7"
      },
      "execution_count": null,
      "outputs": []
    },
    {
      "cell_type": "code",
      "source": [
        "for i in range (len(sentences)):\n",
        "  words = nltk.word_tokenize(sentences[i])\n",
        "  words = [lemma.lemmatize(word.lower(),pos='v') for word in words if word not in set(stopwords.words('english'))]\n",
        "  sentences[i] = ' '.join(words)"
      ],
      "metadata": {
        "id": "X1s5LEIfS9nk"
      },
      "execution_count": 124,
      "outputs": []
    },
    {
      "cell_type": "code",
      "source": [
        "sentences"
      ],
      "metadata": {
        "colab": {
          "base_uri": "https://localhost:8080/"
        },
        "id": "zU5c0AWYTHXL",
        "outputId": "b8d73402-5c0b-4be4-bb69-60b75553ea18"
      },
      "execution_count": 120,
      "outputs": [
        {
          "output_type": "execute_result",
          "data": {
            "text/plain": [
              "['The octopus fascinating marine creature known intelligence , unique appearance , remarkable ability .',\n",
              " 'Belonging class Cephalopoda , also includes squid cuttlefish , octopus highly adaptable found various ocean environment , shallow coastal water deep-sea region .',\n",
              " 'Key characteristic octopus include soft , bulbous body , large head , distinctive arm , usually eight number .',\n",
              " 'Each arm lined sucker highly sensitive touch taste .',\n",
              " 'Octopuses known exceptional problem-solving ability , attributed well-developed nervous system complex brain .',\n",
              " 'One intriguing feature octopus ability change color texture rapidly , allowing blend surroundings camouflage communicate octopus .',\n",
              " 'This camouflaging ability achieved specialized pigment cell called chromatophores skin .',\n",
              " 'Octopuses also known intelligence , exhibiting advanced problem-solving skill , memory , ability learn observation .',\n",
              " 'They observed using tool , escaping predator , even opening jar access food .',\n",
              " 'Some specie octopus also known unique behavior , mimicry , imitate marine animal avoid predator .',\n",
              " 'Reproduction octopus fascinating process .',\n",
              " \"Males typically use specialized arm called hectocotylus transfer sperm female 's mantle mating .\",\n",
              " 'After laying large number egg , female guard care hatch .',\n",
              " 'Interestingly , octopus semelparous , meaning reproduce lifetime , female often die shortly egg hatch .',\n",
              " 'Despite intriguing characteristic , octopus relatively short lifespan , ranging month couple year , depending specie .',\n",
              " 'Their adaptability , intelligence , unique feature make octopus subject great interest marine biology inspired curiosity awe among scientist enthusiast alike .']"
            ]
          },
          "metadata": {},
          "execution_count": 120
        }
      ]
    }
  ]
}